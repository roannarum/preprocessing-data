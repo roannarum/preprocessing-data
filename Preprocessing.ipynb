{
  "cells": [
    {
      "cell_type": "markdown",
      "metadata": {
        "id": "jAWsUvqK9AvU"
      },
      "source": [
        "# Install Libraries"
      ]
    },
    {
      "cell_type": "code",
      "execution_count": null,
      "metadata": {
        "id": "YZKu31U-9AwG",
        "colab": {
          "base_uri": "https://localhost:8080/"
        },
        "outputId": "10163016-2761-4229-aabf-bd397b96c95d"
      },
      "outputs": [
        {
          "output_type": "stream",
          "name": "stdout",
          "text": [
            "Requirement already satisfied: pandas in /usr/local/lib/python3.7/dist-packages (1.1.5)\n",
            "Collecting Sastrawi\n",
            "  Downloading Sastrawi-1.0.1-py2.py3-none-any.whl (209 kB)\n",
            "\u001b[K     |████████████████████████████████| 209 kB 5.1 MB/s \n",
            "\u001b[?25hCollecting nlp-id\n",
            "  Downloading nlp_id-0.1.12.0.tar.gz (7.9 MB)\n",
            "\u001b[K     |████████████████████████████████| 7.9 MB 56.7 MB/s \n",
            "\u001b[?25hRequirement already satisfied: python-dateutil>=2.7.3 in /usr/local/lib/python3.7/dist-packages (from pandas) (2.8.2)\n",
            "Requirement already satisfied: numpy>=1.15.4 in /usr/local/lib/python3.7/dist-packages (from pandas) (1.19.5)\n",
            "Requirement already satisfied: pytz>=2017.2 in /usr/local/lib/python3.7/dist-packages (from pandas) (2018.9)\n",
            "Requirement already satisfied: six>=1.5 in /usr/local/lib/python3.7/dist-packages (from python-dateutil>=2.7.3->pandas) (1.15.0)\n",
            "Collecting scikit-learn==0.22\n",
            "  Downloading scikit_learn-0.22-cp37-cp37m-manylinux1_x86_64.whl (7.0 MB)\n",
            "\u001b[K     |████████████████████████████████| 7.0 MB 30.0 MB/s \n",
            "\u001b[?25hCollecting nltk==3.4.5\n",
            "  Downloading nltk-3.4.5.zip (1.5 MB)\n",
            "\u001b[K     |████████████████████████████████| 1.5 MB 43.4 MB/s \n",
            "\u001b[?25hCollecting wget==3.2\n",
            "  Downloading wget-3.2.zip (10 kB)\n",
            "Requirement already satisfied: joblib>=0.11 in /usr/local/lib/python3.7/dist-packages (from scikit-learn==0.22->nlp-id) (1.1.0)\n",
            "Requirement already satisfied: scipy>=0.17.0 in /usr/local/lib/python3.7/dist-packages (from scikit-learn==0.22->nlp-id) (1.4.1)\n",
            "Building wheels for collected packages: nlp-id, nltk, wget\n",
            "  Building wheel for nlp-id (setup.py) ... \u001b[?25l\u001b[?25hdone\n",
            "  Created wheel for nlp-id: filename=nlp_id-0.1.12.0-py3-none-any.whl size=8074104 sha256=c92ec5b502f384ce3ead515f6b62f51da3549834bac473a732c11150ac91a11b\n",
            "  Stored in directory: /root/.cache/pip/wheels/b2/50/48/da59531125bd94f48dfe66140f41d8fd8a4f04062050375013\n",
            "  Building wheel for nltk (setup.py) ... \u001b[?25l\u001b[?25hdone\n",
            "  Created wheel for nltk: filename=nltk-3.4.5-py3-none-any.whl size=1449924 sha256=f052b6002f7ef9b61f0d33706ed5a92e7da80b35d10ecbf10f44353921042ca1\n",
            "  Stored in directory: /root/.cache/pip/wheels/48/8b/7f/473521e0c731c6566d631b281f323842bbda9bd819eb9a3ead\n",
            "  Building wheel for wget (setup.py) ... \u001b[?25l\u001b[?25hdone\n",
            "  Created wheel for wget: filename=wget-3.2-py3-none-any.whl size=9675 sha256=312cb00484db03e9cfa40ebcee9457b1b3fb7b87aa9e34b78d2a8884e643214c\n",
            "  Stored in directory: /root/.cache/pip/wheels/a1/b6/7c/0e63e34eb06634181c63adacca38b79ff8f35c37e3c13e3c02\n",
            "Successfully built nlp-id nltk wget\n",
            "Installing collected packages: wget, scikit-learn, nltk, Sastrawi, nlp-id\n",
            "  Attempting uninstall: scikit-learn\n",
            "    Found existing installation: scikit-learn 1.0.2\n",
            "    Uninstalling scikit-learn-1.0.2:\n",
            "      Successfully uninstalled scikit-learn-1.0.2\n",
            "  Attempting uninstall: nltk\n",
            "    Found existing installation: nltk 3.2.5\n",
            "    Uninstalling nltk-3.2.5:\n",
            "      Successfully uninstalled nltk-3.2.5\n",
            "\u001b[31mERROR: pip's dependency resolver does not currently take into account all the packages that are installed. This behaviour is the source of the following dependency conflicts.\n",
            "imbalanced-learn 0.8.1 requires scikit-learn>=0.24, but you have scikit-learn 0.22 which is incompatible.\u001b[0m\n",
            "Successfully installed Sastrawi-1.0.1 nlp-id-0.1.12.0 nltk-3.4.5 scikit-learn-0.22 wget-3.2\n"
          ]
        }
      ],
      "source": [
        "!pip install pandas Sastrawi nlp-id\n"
      ]
    },
    {
      "cell_type": "markdown",
      "metadata": {
        "id": "JgiqseZZ9AwX"
      },
      "source": [
        "# Import Libraries"
      ]
    },
    {
      "cell_type": "code",
      "execution_count": 1,
      "metadata": {
        "id": "dyubQ32l9Awk"
      },
      "outputs": [],
      "source": [
        "import pandas as pd"
      ]
    },
    {
      "cell_type": "markdown",
      "metadata": {
        "id": "nGOemTu49Awn"
      },
      "source": [
        "# Load data"
      ]
    },
    {
      "cell_type": "code",
      "execution_count": 2,
      "metadata": {
        "id": "9pGGjrve9Awx"
      },
      "outputs": [],
      "source": [
        "df = pd.read_csv('/content/kompas-Jan29-2022.csv')"
      ]
    },
    {
      "cell_type": "code",
      "execution_count": 3,
      "metadata": {
        "id": "ztyFQ66k9Aw1",
        "colab": {
          "base_uri": "https://localhost:8080/",
          "height": 206
        },
        "outputId": "ba696c8a-55f5-4fa2-e9fc-b75a25e90e49"
      },
      "outputs": [
        {
          "output_type": "execute_result",
          "data": {
            "text/html": [
              "\n",
              "  <div id=\"df-6e6e08de-1f35-4ff7-9f09-5bcf0f95015e\">\n",
              "    <div class=\"colab-df-container\">\n",
              "      <div>\n",
              "<style scoped>\n",
              "    .dataframe tbody tr th:only-of-type {\n",
              "        vertical-align: middle;\n",
              "    }\n",
              "\n",
              "    .dataframe tbody tr th {\n",
              "        vertical-align: top;\n",
              "    }\n",
              "\n",
              "    .dataframe thead th {\n",
              "        text-align: right;\n",
              "    }\n",
              "</style>\n",
              "<table border=\"1\" class=\"dataframe\">\n",
              "  <thead>\n",
              "    <tr style=\"text-align: right;\">\n",
              "      <th></th>\n",
              "      <th>judul</th>\n",
              "      <th>kategori</th>\n",
              "      <th>tanggal_upload</th>\n",
              "      <th>waktu_upload</th>\n",
              "      <th>link_berita</th>\n",
              "    </tr>\n",
              "  </thead>\n",
              "  <tbody>\n",
              "    <tr>\n",
              "      <th>0</th>\n",
              "      <td>Indonesia Kini Punya Sertifikat Vaksin Interna...</td>\n",
              "      <td>WIKEN</td>\n",
              "      <td>29/01/2022</td>\n",
              "      <td>22:03 WIB</td>\n",
              "      <td>https://www.kompas.com/wiken/read/2022/01/29/2...</td>\n",
              "    </tr>\n",
              "    <tr>\n",
              "      <th>1</th>\n",
              "      <td>Resep Ayam Bakar Klaten, Aromanya Gurih karena...</td>\n",
              "      <td>FOOD</td>\n",
              "      <td>29/01/2022</td>\n",
              "      <td>22:03 WIB</td>\n",
              "      <td>https://www.kompas.com/food/read/2022/01/29/22...</td>\n",
              "    </tr>\n",
              "    <tr>\n",
              "      <th>2</th>\n",
              "      <td>FOTO: Setelah Tercemar Tumpahan Minyak, Pantai...</td>\n",
              "      <td>GLOBAL</td>\n",
              "      <td>29/01/2022</td>\n",
              "      <td>22:01 WIB</td>\n",
              "      <td>https://www.kompas.com/global/read/2022/01/29/...</td>\n",
              "    </tr>\n",
              "    <tr>\n",
              "      <th>3</th>\n",
              "      <td>Resmi ke Juventus, Buffon Sandingkan Dusan Vla...</td>\n",
              "      <td>BOLA</td>\n",
              "      <td>29/01/2022</td>\n",
              "      <td>22:00 WIB</td>\n",
              "      <td>https://bola.kompas.com/read/2022/01/29/220000...</td>\n",
              "    </tr>\n",
              "    <tr>\n",
              "      <th>4</th>\n",
              "      <td>6 Penyebab Vagina Gatal</td>\n",
              "      <td>HEALTH</td>\n",
              "      <td>29/01/2022</td>\n",
              "      <td>22:00 WIB</td>\n",
              "      <td>https://health.kompas.com/read/2022/01/29/2200...</td>\n",
              "    </tr>\n",
              "  </tbody>\n",
              "</table>\n",
              "</div>\n",
              "      <button class=\"colab-df-convert\" onclick=\"convertToInteractive('df-6e6e08de-1f35-4ff7-9f09-5bcf0f95015e')\"\n",
              "              title=\"Convert this dataframe to an interactive table.\"\n",
              "              style=\"display:none;\">\n",
              "        \n",
              "  <svg xmlns=\"http://www.w3.org/2000/svg\" height=\"24px\"viewBox=\"0 0 24 24\"\n",
              "       width=\"24px\">\n",
              "    <path d=\"M0 0h24v24H0V0z\" fill=\"none\"/>\n",
              "    <path d=\"M18.56 5.44l.94 2.06.94-2.06 2.06-.94-2.06-.94-.94-2.06-.94 2.06-2.06.94zm-11 1L8.5 8.5l.94-2.06 2.06-.94-2.06-.94L8.5 2.5l-.94 2.06-2.06.94zm10 10l.94 2.06.94-2.06 2.06-.94-2.06-.94-.94-2.06-.94 2.06-2.06.94z\"/><path d=\"M17.41 7.96l-1.37-1.37c-.4-.4-.92-.59-1.43-.59-.52 0-1.04.2-1.43.59L10.3 9.45l-7.72 7.72c-.78.78-.78 2.05 0 2.83L4 21.41c.39.39.9.59 1.41.59.51 0 1.02-.2 1.41-.59l7.78-7.78 2.81-2.81c.8-.78.8-2.07 0-2.86zM5.41 20L4 18.59l7.72-7.72 1.47 1.35L5.41 20z\"/>\n",
              "  </svg>\n",
              "      </button>\n",
              "      \n",
              "  <style>\n",
              "    .colab-df-container {\n",
              "      display:flex;\n",
              "      flex-wrap:wrap;\n",
              "      gap: 12px;\n",
              "    }\n",
              "\n",
              "    .colab-df-convert {\n",
              "      background-color: #E8F0FE;\n",
              "      border: none;\n",
              "      border-radius: 50%;\n",
              "      cursor: pointer;\n",
              "      display: none;\n",
              "      fill: #1967D2;\n",
              "      height: 32px;\n",
              "      padding: 0 0 0 0;\n",
              "      width: 32px;\n",
              "    }\n",
              "\n",
              "    .colab-df-convert:hover {\n",
              "      background-color: #E2EBFA;\n",
              "      box-shadow: 0px 1px 2px rgba(60, 64, 67, 0.3), 0px 1px 3px 1px rgba(60, 64, 67, 0.15);\n",
              "      fill: #174EA6;\n",
              "    }\n",
              "\n",
              "    [theme=dark] .colab-df-convert {\n",
              "      background-color: #3B4455;\n",
              "      fill: #D2E3FC;\n",
              "    }\n",
              "\n",
              "    [theme=dark] .colab-df-convert:hover {\n",
              "      background-color: #434B5C;\n",
              "      box-shadow: 0px 1px 3px 1px rgba(0, 0, 0, 0.15);\n",
              "      filter: drop-shadow(0px 1px 2px rgba(0, 0, 0, 0.3));\n",
              "      fill: #FFFFFF;\n",
              "    }\n",
              "  </style>\n",
              "\n",
              "      <script>\n",
              "        const buttonEl =\n",
              "          document.querySelector('#df-6e6e08de-1f35-4ff7-9f09-5bcf0f95015e button.colab-df-convert');\n",
              "        buttonEl.style.display =\n",
              "          google.colab.kernel.accessAllowed ? 'block' : 'none';\n",
              "\n",
              "        async function convertToInteractive(key) {\n",
              "          const element = document.querySelector('#df-6e6e08de-1f35-4ff7-9f09-5bcf0f95015e');\n",
              "          const dataTable =\n",
              "            await google.colab.kernel.invokeFunction('convertToInteractive',\n",
              "                                                     [key], {});\n",
              "          if (!dataTable) return;\n",
              "\n",
              "          const docLinkHtml = 'Like what you see? Visit the ' +\n",
              "            '<a target=\"_blank\" href=https://colab.research.google.com/notebooks/data_table.ipynb>data table notebook</a>'\n",
              "            + ' to learn more about interactive tables.';\n",
              "          element.innerHTML = '';\n",
              "          dataTable['output_type'] = 'display_data';\n",
              "          await google.colab.output.renderOutput(dataTable, element);\n",
              "          const docLink = document.createElement('div');\n",
              "          docLink.innerHTML = docLinkHtml;\n",
              "          element.appendChild(docLink);\n",
              "        }\n",
              "      </script>\n",
              "    </div>\n",
              "  </div>\n",
              "  "
            ],
            "text/plain": [
              "                                               judul  ...                                        link_berita\n",
              "0  Indonesia Kini Punya Sertifikat Vaksin Interna...  ...  https://www.kompas.com/wiken/read/2022/01/29/2...\n",
              "1  Resep Ayam Bakar Klaten, Aromanya Gurih karena...  ...  https://www.kompas.com/food/read/2022/01/29/22...\n",
              "2  FOTO: Setelah Tercemar Tumpahan Minyak, Pantai...  ...  https://www.kompas.com/global/read/2022/01/29/...\n",
              "3  Resmi ke Juventus, Buffon Sandingkan Dusan Vla...  ...  https://bola.kompas.com/read/2022/01/29/220000...\n",
              "4                            6 Penyebab Vagina Gatal  ...  https://health.kompas.com/read/2022/01/29/2200...\n",
              "\n",
              "[5 rows x 5 columns]"
            ]
          },
          "metadata": {},
          "execution_count": 3
        }
      ],
      "source": [
        "df.head()"
      ]
    },
    {
      "cell_type": "markdown",
      "metadata": {
        "id": "Mt9-eWQc9AxC"
      },
      "source": [
        "# Text Lowering"
      ]
    },
    {
      "cell_type": "code",
      "execution_count": 4,
      "metadata": {
        "id": "DmDoaZHT9AxI"
      },
      "outputs": [],
      "source": [
        "text = \"Selamat datang di Online Bootcamp Python dengan tema Data Mining.\""
      ]
    },
    {
      "cell_type": "code",
      "execution_count": 5,
      "metadata": {
        "id": "zZJ67J7f9AxR"
      },
      "outputs": [],
      "source": [
        "text = text.lower()"
      ]
    },
    {
      "cell_type": "code",
      "execution_count": 6,
      "metadata": {
        "id": "LCd8w-v79AxT",
        "colab": {
          "base_uri": "https://localhost:8080/",
          "height": 35
        },
        "outputId": "f62b3168-66d4-49ea-ca82-bfe204017d8c"
      },
      "outputs": [
        {
          "output_type": "execute_result",
          "data": {
            "application/vnd.google.colaboratory.intrinsic+json": {
              "type": "string"
            },
            "text/plain": [
              "'selamat datang di online bootcamp python dengan tema data mining.'"
            ]
          },
          "metadata": {},
          "execution_count": 6
        }
      ],
      "source": [
        "text"
      ]
    },
    {
      "cell_type": "code",
      "source": [
        "def text_lowering(text):\n",
        "    return text.lower()"
      ],
      "metadata": {
        "id": "bbT58mDp8H9a"
      },
      "execution_count": 7,
      "outputs": []
    },
    {
      "cell_type": "markdown",
      "metadata": {
        "id": "c0f784vi9AxZ"
      },
      "source": [
        "You can try to lower all the text in dataframe"
      ]
    },
    {
      "cell_type": "code",
      "execution_count": 8,
      "metadata": {
        "id": "4Zv0DyhW9Axb"
      },
      "outputs": [],
      "source": [
        "df[\"lower_judul\"] = df[\"judul\"].apply(text_lowering)"
      ]
    },
    {
      "cell_type": "code",
      "source": [
        "df.info()"
      ],
      "metadata": {
        "colab": {
          "base_uri": "https://localhost:8080/"
        },
        "id": "8Y2KTiqf8Ez4",
        "outputId": "f608d9ee-cb8c-4150-df39-f307806251c3"
      },
      "execution_count": 9,
      "outputs": [
        {
          "output_type": "stream",
          "name": "stdout",
          "text": [
            "<class 'pandas.core.frame.DataFrame'>\n",
            "RangeIndex: 3075 entries, 0 to 3074\n",
            "Data columns (total 6 columns):\n",
            " #   Column          Non-Null Count  Dtype \n",
            "---  ------          --------------  ----- \n",
            " 0   judul           3075 non-null   object\n",
            " 1   kategori        3075 non-null   object\n",
            " 2   tanggal_upload  3075 non-null   object\n",
            " 3   waktu_upload    3075 non-null   object\n",
            " 4   link_berita     3075 non-null   object\n",
            " 5   lower_judul     3075 non-null   object\n",
            "dtypes: object(6)\n",
            "memory usage: 144.3+ KB\n"
          ]
        }
      ]
    },
    {
      "cell_type": "code",
      "source": [
        "df.head()"
      ],
      "metadata": {
        "colab": {
          "base_uri": "https://localhost:8080/",
          "height": 319
        },
        "id": "YrYFNWEn8kMB",
        "outputId": "a242bb12-a1a8-46bc-d502-2464ac762e14"
      },
      "execution_count": 10,
      "outputs": [
        {
          "output_type": "execute_result",
          "data": {
            "text/html": [
              "\n",
              "  <div id=\"df-24c8106c-7fc4-429f-bf5d-df646395ce44\">\n",
              "    <div class=\"colab-df-container\">\n",
              "      <div>\n",
              "<style scoped>\n",
              "    .dataframe tbody tr th:only-of-type {\n",
              "        vertical-align: middle;\n",
              "    }\n",
              "\n",
              "    .dataframe tbody tr th {\n",
              "        vertical-align: top;\n",
              "    }\n",
              "\n",
              "    .dataframe thead th {\n",
              "        text-align: right;\n",
              "    }\n",
              "</style>\n",
              "<table border=\"1\" class=\"dataframe\">\n",
              "  <thead>\n",
              "    <tr style=\"text-align: right;\">\n",
              "      <th></th>\n",
              "      <th>judul</th>\n",
              "      <th>kategori</th>\n",
              "      <th>tanggal_upload</th>\n",
              "      <th>waktu_upload</th>\n",
              "      <th>link_berita</th>\n",
              "      <th>lower_judul</th>\n",
              "    </tr>\n",
              "  </thead>\n",
              "  <tbody>\n",
              "    <tr>\n",
              "      <th>0</th>\n",
              "      <td>Indonesia Kini Punya Sertifikat Vaksin Interna...</td>\n",
              "      <td>WIKEN</td>\n",
              "      <td>29/01/2022</td>\n",
              "      <td>22:03 WIB</td>\n",
              "      <td>https://www.kompas.com/wiken/read/2022/01/29/2...</td>\n",
              "      <td>indonesia kini punya sertifikat vaksin interna...</td>\n",
              "    </tr>\n",
              "    <tr>\n",
              "      <th>1</th>\n",
              "      <td>Resep Ayam Bakar Klaten, Aromanya Gurih karena...</td>\n",
              "      <td>FOOD</td>\n",
              "      <td>29/01/2022</td>\n",
              "      <td>22:03 WIB</td>\n",
              "      <td>https://www.kompas.com/food/read/2022/01/29/22...</td>\n",
              "      <td>resep ayam bakar klaten, aromanya gurih karena...</td>\n",
              "    </tr>\n",
              "    <tr>\n",
              "      <th>2</th>\n",
              "      <td>FOTO: Setelah Tercemar Tumpahan Minyak, Pantai...</td>\n",
              "      <td>GLOBAL</td>\n",
              "      <td>29/01/2022</td>\n",
              "      <td>22:01 WIB</td>\n",
              "      <td>https://www.kompas.com/global/read/2022/01/29/...</td>\n",
              "      <td>foto: setelah tercemar tumpahan minyak, pantai...</td>\n",
              "    </tr>\n",
              "    <tr>\n",
              "      <th>3</th>\n",
              "      <td>Resmi ke Juventus, Buffon Sandingkan Dusan Vla...</td>\n",
              "      <td>BOLA</td>\n",
              "      <td>29/01/2022</td>\n",
              "      <td>22:00 WIB</td>\n",
              "      <td>https://bola.kompas.com/read/2022/01/29/220000...</td>\n",
              "      <td>resmi ke juventus, buffon sandingkan dusan vla...</td>\n",
              "    </tr>\n",
              "    <tr>\n",
              "      <th>4</th>\n",
              "      <td>6 Penyebab Vagina Gatal</td>\n",
              "      <td>HEALTH</td>\n",
              "      <td>29/01/2022</td>\n",
              "      <td>22:00 WIB</td>\n",
              "      <td>https://health.kompas.com/read/2022/01/29/2200...</td>\n",
              "      <td>6 penyebab vagina gatal</td>\n",
              "    </tr>\n",
              "  </tbody>\n",
              "</table>\n",
              "</div>\n",
              "      <button class=\"colab-df-convert\" onclick=\"convertToInteractive('df-24c8106c-7fc4-429f-bf5d-df646395ce44')\"\n",
              "              title=\"Convert this dataframe to an interactive table.\"\n",
              "              style=\"display:none;\">\n",
              "        \n",
              "  <svg xmlns=\"http://www.w3.org/2000/svg\" height=\"24px\"viewBox=\"0 0 24 24\"\n",
              "       width=\"24px\">\n",
              "    <path d=\"M0 0h24v24H0V0z\" fill=\"none\"/>\n",
              "    <path d=\"M18.56 5.44l.94 2.06.94-2.06 2.06-.94-2.06-.94-.94-2.06-.94 2.06-2.06.94zm-11 1L8.5 8.5l.94-2.06 2.06-.94-2.06-.94L8.5 2.5l-.94 2.06-2.06.94zm10 10l.94 2.06.94-2.06 2.06-.94-2.06-.94-.94-2.06-.94 2.06-2.06.94z\"/><path d=\"M17.41 7.96l-1.37-1.37c-.4-.4-.92-.59-1.43-.59-.52 0-1.04.2-1.43.59L10.3 9.45l-7.72 7.72c-.78.78-.78 2.05 0 2.83L4 21.41c.39.39.9.59 1.41.59.51 0 1.02-.2 1.41-.59l7.78-7.78 2.81-2.81c.8-.78.8-2.07 0-2.86zM5.41 20L4 18.59l7.72-7.72 1.47 1.35L5.41 20z\"/>\n",
              "  </svg>\n",
              "      </button>\n",
              "      \n",
              "  <style>\n",
              "    .colab-df-container {\n",
              "      display:flex;\n",
              "      flex-wrap:wrap;\n",
              "      gap: 12px;\n",
              "    }\n",
              "\n",
              "    .colab-df-convert {\n",
              "      background-color: #E8F0FE;\n",
              "      border: none;\n",
              "      border-radius: 50%;\n",
              "      cursor: pointer;\n",
              "      display: none;\n",
              "      fill: #1967D2;\n",
              "      height: 32px;\n",
              "      padding: 0 0 0 0;\n",
              "      width: 32px;\n",
              "    }\n",
              "\n",
              "    .colab-df-convert:hover {\n",
              "      background-color: #E2EBFA;\n",
              "      box-shadow: 0px 1px 2px rgba(60, 64, 67, 0.3), 0px 1px 3px 1px rgba(60, 64, 67, 0.15);\n",
              "      fill: #174EA6;\n",
              "    }\n",
              "\n",
              "    [theme=dark] .colab-df-convert {\n",
              "      background-color: #3B4455;\n",
              "      fill: #D2E3FC;\n",
              "    }\n",
              "\n",
              "    [theme=dark] .colab-df-convert:hover {\n",
              "      background-color: #434B5C;\n",
              "      box-shadow: 0px 1px 3px 1px rgba(0, 0, 0, 0.15);\n",
              "      filter: drop-shadow(0px 1px 2px rgba(0, 0, 0, 0.3));\n",
              "      fill: #FFFFFF;\n",
              "    }\n",
              "  </style>\n",
              "\n",
              "      <script>\n",
              "        const buttonEl =\n",
              "          document.querySelector('#df-24c8106c-7fc4-429f-bf5d-df646395ce44 button.colab-df-convert');\n",
              "        buttonEl.style.display =\n",
              "          google.colab.kernel.accessAllowed ? 'block' : 'none';\n",
              "\n",
              "        async function convertToInteractive(key) {\n",
              "          const element = document.querySelector('#df-24c8106c-7fc4-429f-bf5d-df646395ce44');\n",
              "          const dataTable =\n",
              "            await google.colab.kernel.invokeFunction('convertToInteractive',\n",
              "                                                     [key], {});\n",
              "          if (!dataTable) return;\n",
              "\n",
              "          const docLinkHtml = 'Like what you see? Visit the ' +\n",
              "            '<a target=\"_blank\" href=https://colab.research.google.com/notebooks/data_table.ipynb>data table notebook</a>'\n",
              "            + ' to learn more about interactive tables.';\n",
              "          element.innerHTML = '';\n",
              "          dataTable['output_type'] = 'display_data';\n",
              "          await google.colab.output.renderOutput(dataTable, element);\n",
              "          const docLink = document.createElement('div');\n",
              "          docLink.innerHTML = docLinkHtml;\n",
              "          element.appendChild(docLink);\n",
              "        }\n",
              "      </script>\n",
              "    </div>\n",
              "  </div>\n",
              "  "
            ],
            "text/plain": [
              "                                               judul  ...                                        lower_judul\n",
              "0  Indonesia Kini Punya Sertifikat Vaksin Interna...  ...  indonesia kini punya sertifikat vaksin interna...\n",
              "1  Resep Ayam Bakar Klaten, Aromanya Gurih karena...  ...  resep ayam bakar klaten, aromanya gurih karena...\n",
              "2  FOTO: Setelah Tercemar Tumpahan Minyak, Pantai...  ...  foto: setelah tercemar tumpahan minyak, pantai...\n",
              "3  Resmi ke Juventus, Buffon Sandingkan Dusan Vla...  ...  resmi ke juventus, buffon sandingkan dusan vla...\n",
              "4                            6 Penyebab Vagina Gatal  ...                            6 penyebab vagina gatal\n",
              "\n",
              "[5 rows x 6 columns]"
            ]
          },
          "metadata": {},
          "execution_count": 10
        }
      ]
    },
    {
      "cell_type": "code",
      "source": [
        "df[\"lower_kategori\"] = df[\"kategori\"].apply(text_lowering)"
      ],
      "metadata": {
        "id": "XtA3GAT79F-0"
      },
      "execution_count": 11,
      "outputs": []
    },
    {
      "cell_type": "code",
      "source": [
        "df.head()"
      ],
      "metadata": {
        "colab": {
          "base_uri": "https://localhost:8080/",
          "height": 337
        },
        "id": "36_XyxKm9MTW",
        "outputId": "f013de08-1118-4ba1-f1de-4261d936c182"
      },
      "execution_count": 12,
      "outputs": [
        {
          "output_type": "execute_result",
          "data": {
            "text/html": [
              "\n",
              "  <div id=\"df-3f53adf7-a51c-442f-a354-042e4be49947\">\n",
              "    <div class=\"colab-df-container\">\n",
              "      <div>\n",
              "<style scoped>\n",
              "    .dataframe tbody tr th:only-of-type {\n",
              "        vertical-align: middle;\n",
              "    }\n",
              "\n",
              "    .dataframe tbody tr th {\n",
              "        vertical-align: top;\n",
              "    }\n",
              "\n",
              "    .dataframe thead th {\n",
              "        text-align: right;\n",
              "    }\n",
              "</style>\n",
              "<table border=\"1\" class=\"dataframe\">\n",
              "  <thead>\n",
              "    <tr style=\"text-align: right;\">\n",
              "      <th></th>\n",
              "      <th>judul</th>\n",
              "      <th>kategori</th>\n",
              "      <th>tanggal_upload</th>\n",
              "      <th>waktu_upload</th>\n",
              "      <th>link_berita</th>\n",
              "      <th>lower_judul</th>\n",
              "      <th>lower_kategori</th>\n",
              "    </tr>\n",
              "  </thead>\n",
              "  <tbody>\n",
              "    <tr>\n",
              "      <th>0</th>\n",
              "      <td>Indonesia Kini Punya Sertifikat Vaksin Interna...</td>\n",
              "      <td>WIKEN</td>\n",
              "      <td>29/01/2022</td>\n",
              "      <td>22:03 WIB</td>\n",
              "      <td>https://www.kompas.com/wiken/read/2022/01/29/2...</td>\n",
              "      <td>indonesia kini punya sertifikat vaksin interna...</td>\n",
              "      <td>wiken</td>\n",
              "    </tr>\n",
              "    <tr>\n",
              "      <th>1</th>\n",
              "      <td>Resep Ayam Bakar Klaten, Aromanya Gurih karena...</td>\n",
              "      <td>FOOD</td>\n",
              "      <td>29/01/2022</td>\n",
              "      <td>22:03 WIB</td>\n",
              "      <td>https://www.kompas.com/food/read/2022/01/29/22...</td>\n",
              "      <td>resep ayam bakar klaten, aromanya gurih karena...</td>\n",
              "      <td>food</td>\n",
              "    </tr>\n",
              "    <tr>\n",
              "      <th>2</th>\n",
              "      <td>FOTO: Setelah Tercemar Tumpahan Minyak, Pantai...</td>\n",
              "      <td>GLOBAL</td>\n",
              "      <td>29/01/2022</td>\n",
              "      <td>22:01 WIB</td>\n",
              "      <td>https://www.kompas.com/global/read/2022/01/29/...</td>\n",
              "      <td>foto: setelah tercemar tumpahan minyak, pantai...</td>\n",
              "      <td>global</td>\n",
              "    </tr>\n",
              "    <tr>\n",
              "      <th>3</th>\n",
              "      <td>Resmi ke Juventus, Buffon Sandingkan Dusan Vla...</td>\n",
              "      <td>BOLA</td>\n",
              "      <td>29/01/2022</td>\n",
              "      <td>22:00 WIB</td>\n",
              "      <td>https://bola.kompas.com/read/2022/01/29/220000...</td>\n",
              "      <td>resmi ke juventus, buffon sandingkan dusan vla...</td>\n",
              "      <td>bola</td>\n",
              "    </tr>\n",
              "    <tr>\n",
              "      <th>4</th>\n",
              "      <td>6 Penyebab Vagina Gatal</td>\n",
              "      <td>HEALTH</td>\n",
              "      <td>29/01/2022</td>\n",
              "      <td>22:00 WIB</td>\n",
              "      <td>https://health.kompas.com/read/2022/01/29/2200...</td>\n",
              "      <td>6 penyebab vagina gatal</td>\n",
              "      <td>health</td>\n",
              "    </tr>\n",
              "  </tbody>\n",
              "</table>\n",
              "</div>\n",
              "      <button class=\"colab-df-convert\" onclick=\"convertToInteractive('df-3f53adf7-a51c-442f-a354-042e4be49947')\"\n",
              "              title=\"Convert this dataframe to an interactive table.\"\n",
              "              style=\"display:none;\">\n",
              "        \n",
              "  <svg xmlns=\"http://www.w3.org/2000/svg\" height=\"24px\"viewBox=\"0 0 24 24\"\n",
              "       width=\"24px\">\n",
              "    <path d=\"M0 0h24v24H0V0z\" fill=\"none\"/>\n",
              "    <path d=\"M18.56 5.44l.94 2.06.94-2.06 2.06-.94-2.06-.94-.94-2.06-.94 2.06-2.06.94zm-11 1L8.5 8.5l.94-2.06 2.06-.94-2.06-.94L8.5 2.5l-.94 2.06-2.06.94zm10 10l.94 2.06.94-2.06 2.06-.94-2.06-.94-.94-2.06-.94 2.06-2.06.94z\"/><path d=\"M17.41 7.96l-1.37-1.37c-.4-.4-.92-.59-1.43-.59-.52 0-1.04.2-1.43.59L10.3 9.45l-7.72 7.72c-.78.78-.78 2.05 0 2.83L4 21.41c.39.39.9.59 1.41.59.51 0 1.02-.2 1.41-.59l7.78-7.78 2.81-2.81c.8-.78.8-2.07 0-2.86zM5.41 20L4 18.59l7.72-7.72 1.47 1.35L5.41 20z\"/>\n",
              "  </svg>\n",
              "      </button>\n",
              "      \n",
              "  <style>\n",
              "    .colab-df-container {\n",
              "      display:flex;\n",
              "      flex-wrap:wrap;\n",
              "      gap: 12px;\n",
              "    }\n",
              "\n",
              "    .colab-df-convert {\n",
              "      background-color: #E8F0FE;\n",
              "      border: none;\n",
              "      border-radius: 50%;\n",
              "      cursor: pointer;\n",
              "      display: none;\n",
              "      fill: #1967D2;\n",
              "      height: 32px;\n",
              "      padding: 0 0 0 0;\n",
              "      width: 32px;\n",
              "    }\n",
              "\n",
              "    .colab-df-convert:hover {\n",
              "      background-color: #E2EBFA;\n",
              "      box-shadow: 0px 1px 2px rgba(60, 64, 67, 0.3), 0px 1px 3px 1px rgba(60, 64, 67, 0.15);\n",
              "      fill: #174EA6;\n",
              "    }\n",
              "\n",
              "    [theme=dark] .colab-df-convert {\n",
              "      background-color: #3B4455;\n",
              "      fill: #D2E3FC;\n",
              "    }\n",
              "\n",
              "    [theme=dark] .colab-df-convert:hover {\n",
              "      background-color: #434B5C;\n",
              "      box-shadow: 0px 1px 3px 1px rgba(0, 0, 0, 0.15);\n",
              "      filter: drop-shadow(0px 1px 2px rgba(0, 0, 0, 0.3));\n",
              "      fill: #FFFFFF;\n",
              "    }\n",
              "  </style>\n",
              "\n",
              "      <script>\n",
              "        const buttonEl =\n",
              "          document.querySelector('#df-3f53adf7-a51c-442f-a354-042e4be49947 button.colab-df-convert');\n",
              "        buttonEl.style.display =\n",
              "          google.colab.kernel.accessAllowed ? 'block' : 'none';\n",
              "\n",
              "        async function convertToInteractive(key) {\n",
              "          const element = document.querySelector('#df-3f53adf7-a51c-442f-a354-042e4be49947');\n",
              "          const dataTable =\n",
              "            await google.colab.kernel.invokeFunction('convertToInteractive',\n",
              "                                                     [key], {});\n",
              "          if (!dataTable) return;\n",
              "\n",
              "          const docLinkHtml = 'Like what you see? Visit the ' +\n",
              "            '<a target=\"_blank\" href=https://colab.research.google.com/notebooks/data_table.ipynb>data table notebook</a>'\n",
              "            + ' to learn more about interactive tables.';\n",
              "          element.innerHTML = '';\n",
              "          dataTable['output_type'] = 'display_data';\n",
              "          await google.colab.output.renderOutput(dataTable, element);\n",
              "          const docLink = document.createElement('div');\n",
              "          docLink.innerHTML = docLinkHtml;\n",
              "          element.appendChild(docLink);\n",
              "        }\n",
              "      </script>\n",
              "    </div>\n",
              "  </div>\n",
              "  "
            ],
            "text/plain": [
              "                                               judul  ... lower_kategori\n",
              "0  Indonesia Kini Punya Sertifikat Vaksin Interna...  ...          wiken\n",
              "1  Resep Ayam Bakar Klaten, Aromanya Gurih karena...  ...           food\n",
              "2  FOTO: Setelah Tercemar Tumpahan Minyak, Pantai...  ...         global\n",
              "3  Resmi ke Juventus, Buffon Sandingkan Dusan Vla...  ...           bola\n",
              "4                            6 Penyebab Vagina Gatal  ...         health\n",
              "\n",
              "[5 rows x 7 columns]"
            ]
          },
          "metadata": {},
          "execution_count": 12
        }
      ]
    },
    {
      "cell_type": "code",
      "execution_count": null,
      "metadata": {
        "id": "fKwyDWQr9Axc"
      },
      "outputs": [],
      "source": [
        "# df[column_name][:5]"
      ]
    },
    {
      "cell_type": "markdown",
      "metadata": {
        "id": "qhJHA-Bx9Axk"
      },
      "source": [
        "# Remove Numbers, Special Characters, and Extra Spaces\n",
        "\n",
        "Menghilangkan angka[0-9], karakter spesial [~!@#$%^&*()_+{{}|\":?><,./';], dan spasi tambahan"
      ]
    },
    {
      "cell_type": "code",
      "execution_count": 13,
      "metadata": {
        "id": "avyRNRS59Axm"
      },
      "outputs": [],
      "source": [
        "text = \"Selamat12 datang di()  Online Bootcamp; (!7Python dengan-- tema__Data~@Mining\""
      ]
    },
    {
      "cell_type": "code",
      "execution_count": 14,
      "metadata": {
        "id": "s1RU9Du39Axr"
      },
      "outputs": [],
      "source": [
        "import re"
      ]
    },
    {
      "cell_type": "code",
      "execution_count": 15,
      "metadata": {
        "id": "j74NqwZ39Ayh",
        "colab": {
          "base_uri": "https://localhost:8080/",
          "height": 35
        },
        "outputId": "a89d4d19-4cf7-4185-ba93-5bb64d8fc68d"
      },
      "outputs": [
        {
          "output_type": "execute_result",
          "data": {
            "application/vnd.google.colaboratory.intrinsic+json": {
              "type": "string"
            },
            "text/plain": [
              "'Selamat datang di()  Online Bootcamp; (!Python dengan-- tema__Data~@Mining'"
            ]
          },
          "metadata": {},
          "execution_count": 15
        }
      ],
      "source": [
        "# remove numbers\n",
        "text = re.sub(r'[0-9]+', '', text)\n",
        "text"
      ]
    },
    {
      "cell_type": "code",
      "execution_count": 16,
      "metadata": {
        "id": "8vVAkcM19AzI",
        "colab": {
          "base_uri": "https://localhost:8080/",
          "height": 35
        },
        "outputId": "8104becb-dfaa-431b-c9e7-9188fa96c51b"
      },
      "outputs": [
        {
          "output_type": "execute_result",
          "data": {
            "application/vnd.google.colaboratory.intrinsic+json": {
              "type": "string"
            },
            "text/plain": [
              "'Selamat datang di  Online Bootcamp Python dengan tema__DataMining'"
            ]
          },
          "metadata": {},
          "execution_count": 16
        }
      ],
      "source": [
        "# remove special characters\n",
        "text = re.sub(r'[^\\w\\s]', '', text)\n",
        "text"
      ]
    },
    {
      "cell_type": "code",
      "source": [
        "# remove underscore\n",
        "text = text.replace(\"_\", \" \")\n",
        "text"
      ],
      "metadata": {
        "colab": {
          "base_uri": "https://localhost:8080/",
          "height": 35
        },
        "id": "DvMPv57R_qOm",
        "outputId": "7af9055e-fd04-4ab3-8292-d1265c8f0883"
      },
      "execution_count": 17,
      "outputs": [
        {
          "output_type": "execute_result",
          "data": {
            "application/vnd.google.colaboratory.intrinsic+json": {
              "type": "string"
            },
            "text/plain": [
              "'Selamat datang di  Online Bootcamp Python dengan tema  DataMining'"
            ]
          },
          "metadata": {},
          "execution_count": 17
        }
      ]
    },
    {
      "cell_type": "code",
      "source": [
        "text_list = text.split()\n",
        "text_list"
      ],
      "metadata": {
        "colab": {
          "base_uri": "https://localhost:8080/"
        },
        "id": "TMyjA7IsAlNR",
        "outputId": "2171dfd7-37f5-44d9-964f-37622533122f"
      },
      "execution_count": 18,
      "outputs": [
        {
          "output_type": "execute_result",
          "data": {
            "text/plain": [
              "['Selamat',\n",
              " 'datang',\n",
              " 'di',\n",
              " 'Online',\n",
              " 'Bootcamp',\n",
              " 'Python',\n",
              " 'dengan',\n",
              " 'tema',\n",
              " 'DataMining']"
            ]
          },
          "metadata": {},
          "execution_count": 18
        }
      ]
    },
    {
      "cell_type": "code",
      "source": [
        "texted = \" \".join(text_list)\n",
        "texted"
      ],
      "metadata": {
        "colab": {
          "base_uri": "https://localhost:8080/",
          "height": 35
        },
        "id": "RlvYUdj2Audv",
        "outputId": "a436d98d-b4b9-4d8c-9d6d-9397ad7ff924"
      },
      "execution_count": 19,
      "outputs": [
        {
          "output_type": "execute_result",
          "data": {
            "application/vnd.google.colaboratory.intrinsic+json": {
              "type": "string"
            },
            "text/plain": [
              "'Selamat datang di Online Bootcamp Python dengan tema DataMining'"
            ]
          },
          "metadata": {},
          "execution_count": 19
        }
      ]
    },
    {
      "cell_type": "code",
      "execution_count": 20,
      "metadata": {
        "id": "lnD9jjxU9AzM",
        "colab": {
          "base_uri": "https://localhost:8080/",
          "height": 35
        },
        "outputId": "8c15ad73-2c5c-49e1-8062-e53a6eb22221"
      },
      "outputs": [
        {
          "output_type": "execute_result",
          "data": {
            "application/vnd.google.colaboratory.intrinsic+json": {
              "type": "string"
            },
            "text/plain": [
              "'Selamat datang di Online Bootcamp Python dengan tema DataMining'"
            ]
          },
          "metadata": {},
          "execution_count": 20
        }
      ],
      "source": [
        "# remove extra spaces\n",
        "text = \" \".join(text.split())\n",
        "text"
      ]
    },
    {
      "cell_type": "code",
      "source": [
        "def normalisasi(text):\n",
        "    text = re.sub(r'[0-9]+', '', text)\n",
        "    text = re.sub(r'[^\\w\\s]', '', text)\n",
        "    text = \" \".join(text.split())\n",
        "    return text\n"
      ],
      "metadata": {
        "id": "tJA1k_fkBzA1"
      },
      "execution_count": 21,
      "outputs": []
    },
    {
      "cell_type": "code",
      "source": [
        "df[\"normalisasi\"] = df[\"lower_judul\"].apply(normalisasi)"
      ],
      "metadata": {
        "id": "Qa0KAvCpBhhd"
      },
      "execution_count": 22,
      "outputs": []
    },
    {
      "cell_type": "code",
      "source": [
        "df[[\"lower_judul\",\"normalisasi\"]][10:20]"
      ],
      "metadata": {
        "colab": {
          "base_uri": "https://localhost:8080/",
          "height": 363
        },
        "id": "bnAPiwQzCi5W",
        "outputId": "270806fc-0488-4623-a92c-303aa3838f10"
      },
      "execution_count": 23,
      "outputs": [
        {
          "output_type": "execute_result",
          "data": {
            "text/html": [
              "\n",
              "  <div id=\"df-626349ec-ae7b-41f7-8f91-5af66b52cb92\">\n",
              "    <div class=\"colab-df-container\">\n",
              "      <div>\n",
              "<style scoped>\n",
              "    .dataframe tbody tr th:only-of-type {\n",
              "        vertical-align: middle;\n",
              "    }\n",
              "\n",
              "    .dataframe tbody tr th {\n",
              "        vertical-align: top;\n",
              "    }\n",
              "\n",
              "    .dataframe thead th {\n",
              "        text-align: right;\n",
              "    }\n",
              "</style>\n",
              "<table border=\"1\" class=\"dataframe\">\n",
              "  <thead>\n",
              "    <tr style=\"text-align: right;\">\n",
              "      <th></th>\n",
              "      <th>lower_judul</th>\n",
              "      <th>normalisasi</th>\n",
              "    </tr>\n",
              "  </thead>\n",
              "  <tbody>\n",
              "    <tr>\n",
              "      <th>10</th>\n",
              "      <td>gelar konser bintang di surga, noah tak sabar ...</td>\n",
              "      <td>gelar konser bintang di surga noah tak sabar s...</td>\n",
              "    </tr>\n",
              "    <tr>\n",
              "      <th>11</th>\n",
              "      <td>ketum pan: pemindahan ibu kota negara dari jak...</td>\n",
              "      <td>ketum pan pemindahan ibu kota negara dari jaka...</td>\n",
              "    </tr>\n",
              "    <tr>\n",
              "      <th>12</th>\n",
              "      <td>ketua umum pssi merasa ledakan kasus covid-19 ...</td>\n",
              "      <td>ketua umum pssi merasa ledakan kasus covid di ...</td>\n",
              "    </tr>\n",
              "    <tr>\n",
              "      <th>13</th>\n",
              "      <td>line up darurat persib vs persikabo: debut kak...</td>\n",
              "      <td>line up darurat persib vs persikabo debut kaka...</td>\n",
              "    </tr>\n",
              "    <tr>\n",
              "      <th>14</th>\n",
              "      <td>ganti seprai tempat tidur seminggu sekali, ini...</td>\n",
              "      <td>ganti seprai tempat tidur seminggu sekali ini ...</td>\n",
              "    </tr>\n",
              "    <tr>\n",
              "      <th>15</th>\n",
              "      <td>biar awet, ini 4 cara merawat tabung mesin cuci</td>\n",
              "      <td>biar awet ini cara merawat tabung mesin cuci</td>\n",
              "    </tr>\n",
              "    <tr>\n",
              "      <th>16</th>\n",
              "      <td>ht persib vs persikabo: kakang debut dan cetak...</td>\n",
              "      <td>ht persib vs persikabo kakang debut dan cetak ...</td>\n",
              "    </tr>\n",
              "    <tr>\n",
              "      <th>17</th>\n",
              "      <td>sinopsis film gone girl, misteri hilangnya pen...</td>\n",
              "      <td>sinopsis film gone girl misteri hilangnya penu...</td>\n",
              "    </tr>\n",
              "    <tr>\n",
              "      <th>18</th>\n",
              "      <td>pasukan ukraina berlatih tembakkan peluncur an...</td>\n",
              "      <td>pasukan ukraina berlatih tembakkan peluncur an...</td>\n",
              "    </tr>\n",
              "    <tr>\n",
              "      <th>19</th>\n",
              "      <td>viral, video petugas lempar barang dari atas p...</td>\n",
              "      <td>viral video petugas lempar barang dari atas pe...</td>\n",
              "    </tr>\n",
              "  </tbody>\n",
              "</table>\n",
              "</div>\n",
              "      <button class=\"colab-df-convert\" onclick=\"convertToInteractive('df-626349ec-ae7b-41f7-8f91-5af66b52cb92')\"\n",
              "              title=\"Convert this dataframe to an interactive table.\"\n",
              "              style=\"display:none;\">\n",
              "        \n",
              "  <svg xmlns=\"http://www.w3.org/2000/svg\" height=\"24px\"viewBox=\"0 0 24 24\"\n",
              "       width=\"24px\">\n",
              "    <path d=\"M0 0h24v24H0V0z\" fill=\"none\"/>\n",
              "    <path d=\"M18.56 5.44l.94 2.06.94-2.06 2.06-.94-2.06-.94-.94-2.06-.94 2.06-2.06.94zm-11 1L8.5 8.5l.94-2.06 2.06-.94-2.06-.94L8.5 2.5l-.94 2.06-2.06.94zm10 10l.94 2.06.94-2.06 2.06-.94-2.06-.94-.94-2.06-.94 2.06-2.06.94z\"/><path d=\"M17.41 7.96l-1.37-1.37c-.4-.4-.92-.59-1.43-.59-.52 0-1.04.2-1.43.59L10.3 9.45l-7.72 7.72c-.78.78-.78 2.05 0 2.83L4 21.41c.39.39.9.59 1.41.59.51 0 1.02-.2 1.41-.59l7.78-7.78 2.81-2.81c.8-.78.8-2.07 0-2.86zM5.41 20L4 18.59l7.72-7.72 1.47 1.35L5.41 20z\"/>\n",
              "  </svg>\n",
              "      </button>\n",
              "      \n",
              "  <style>\n",
              "    .colab-df-container {\n",
              "      display:flex;\n",
              "      flex-wrap:wrap;\n",
              "      gap: 12px;\n",
              "    }\n",
              "\n",
              "    .colab-df-convert {\n",
              "      background-color: #E8F0FE;\n",
              "      border: none;\n",
              "      border-radius: 50%;\n",
              "      cursor: pointer;\n",
              "      display: none;\n",
              "      fill: #1967D2;\n",
              "      height: 32px;\n",
              "      padding: 0 0 0 0;\n",
              "      width: 32px;\n",
              "    }\n",
              "\n",
              "    .colab-df-convert:hover {\n",
              "      background-color: #E2EBFA;\n",
              "      box-shadow: 0px 1px 2px rgba(60, 64, 67, 0.3), 0px 1px 3px 1px rgba(60, 64, 67, 0.15);\n",
              "      fill: #174EA6;\n",
              "    }\n",
              "\n",
              "    [theme=dark] .colab-df-convert {\n",
              "      background-color: #3B4455;\n",
              "      fill: #D2E3FC;\n",
              "    }\n",
              "\n",
              "    [theme=dark] .colab-df-convert:hover {\n",
              "      background-color: #434B5C;\n",
              "      box-shadow: 0px 1px 3px 1px rgba(0, 0, 0, 0.15);\n",
              "      filter: drop-shadow(0px 1px 2px rgba(0, 0, 0, 0.3));\n",
              "      fill: #FFFFFF;\n",
              "    }\n",
              "  </style>\n",
              "\n",
              "      <script>\n",
              "        const buttonEl =\n",
              "          document.querySelector('#df-626349ec-ae7b-41f7-8f91-5af66b52cb92 button.colab-df-convert');\n",
              "        buttonEl.style.display =\n",
              "          google.colab.kernel.accessAllowed ? 'block' : 'none';\n",
              "\n",
              "        async function convertToInteractive(key) {\n",
              "          const element = document.querySelector('#df-626349ec-ae7b-41f7-8f91-5af66b52cb92');\n",
              "          const dataTable =\n",
              "            await google.colab.kernel.invokeFunction('convertToInteractive',\n",
              "                                                     [key], {});\n",
              "          if (!dataTable) return;\n",
              "\n",
              "          const docLinkHtml = 'Like what you see? Visit the ' +\n",
              "            '<a target=\"_blank\" href=https://colab.research.google.com/notebooks/data_table.ipynb>data table notebook</a>'\n",
              "            + ' to learn more about interactive tables.';\n",
              "          element.innerHTML = '';\n",
              "          dataTable['output_type'] = 'display_data';\n",
              "          await google.colab.output.renderOutput(dataTable, element);\n",
              "          const docLink = document.createElement('div');\n",
              "          docLink.innerHTML = docLinkHtml;\n",
              "          element.appendChild(docLink);\n",
              "        }\n",
              "      </script>\n",
              "    </div>\n",
              "  </div>\n",
              "  "
            ],
            "text/plain": [
              "                                          lower_judul                                        normalisasi\n",
              "10  gelar konser bintang di surga, noah tak sabar ...  gelar konser bintang di surga noah tak sabar s...\n",
              "11  ketum pan: pemindahan ibu kota negara dari jak...  ketum pan pemindahan ibu kota negara dari jaka...\n",
              "12  ketua umum pssi merasa ledakan kasus covid-19 ...  ketua umum pssi merasa ledakan kasus covid di ...\n",
              "13  line up darurat persib vs persikabo: debut kak...  line up darurat persib vs persikabo debut kaka...\n",
              "14  ganti seprai tempat tidur seminggu sekali, ini...  ganti seprai tempat tidur seminggu sekali ini ...\n",
              "15    biar awet, ini 4 cara merawat tabung mesin cuci       biar awet ini cara merawat tabung mesin cuci\n",
              "16  ht persib vs persikabo: kakang debut dan cetak...  ht persib vs persikabo kakang debut dan cetak ...\n",
              "17  sinopsis film gone girl, misteri hilangnya pen...  sinopsis film gone girl misteri hilangnya penu...\n",
              "18  pasukan ukraina berlatih tembakkan peluncur an...  pasukan ukraina berlatih tembakkan peluncur an...\n",
              "19  viral, video petugas lempar barang dari atas p...  viral video petugas lempar barang dari atas pe..."
            ]
          },
          "metadata": {},
          "execution_count": 23
        }
      ]
    },
    {
      "cell_type": "markdown",
      "metadata": {
        "id": "u8FZUnww9AzP"
      },
      "source": [
        "Let's try into the dataframe"
      ]
    },
    {
      "cell_type": "code",
      "execution_count": null,
      "metadata": {
        "id": "9kc0AtEx9AzS"
      },
      "outputs": [],
      "source": [
        "# df = ..."
      ]
    },
    {
      "cell_type": "markdown",
      "metadata": {
        "id": "2PVpP0Ld9AzZ"
      },
      "source": [
        "# Stopword Removal\n",
        "\n",
        "Menghilangkan kata-kata yang tidak bermakna seperti kata hubung, kata ganti orang, dan sejenisnya."
      ]
    },
    {
      "cell_type": "code",
      "execution_count": 24,
      "metadata": {
        "id": "yrmcv7mr9Azd"
      },
      "outputs": [],
      "source": [
        "text = \"Selamat datang di Online Bootcamp Python dengan tema Data Mining. Apa kabar kalian semua?\""
      ]
    },
    {
      "cell_type": "markdown",
      "metadata": {
        "id": "S9GBbUxT9Aze"
      },
      "source": [
        "- Library Sastrawi"
      ]
    },
    {
      "cell_type": "code",
      "execution_count": 25,
      "metadata": {
        "id": "8bM6c5l_9Azf"
      },
      "outputs": [],
      "source": [
        "from Sastrawi.StopWordRemover.StopWordRemoverFactory import StopWordRemoverFactory, StopWordRemover, ArrayDictionary"
      ]
    },
    {
      "cell_type": "code",
      "execution_count": 26,
      "metadata": {
        "id": "ILskV-OU9Azj"
      },
      "outputs": [],
      "source": [
        "# get list of stopwords\n",
        "stopword_list = StopWordRemoverFactory().get_stop_words()"
      ]
    },
    {
      "cell_type": "code",
      "execution_count": null,
      "metadata": {
        "id": "nf6KTniM9Azk",
        "colab": {
          "base_uri": "https://localhost:8080/"
        },
        "outputId": "f4a76c44-8cf0-4f19-f03b-2c936bed1c83"
      },
      "outputs": [
        {
          "output_type": "execute_result",
          "data": {
            "text/plain": [
              "['yang',\n",
              " 'untuk',\n",
              " 'pada',\n",
              " 'ke',\n",
              " 'para',\n",
              " 'namun',\n",
              " 'menurut',\n",
              " 'antara',\n",
              " 'dia',\n",
              " 'dua']"
            ]
          },
          "metadata": {},
          "execution_count": 40
        }
      ],
      "source": [
        "stopword_list[:10]"
      ]
    },
    {
      "cell_type": "code",
      "execution_count": 27,
      "metadata": {
        "id": "WbrafP289Azt"
      },
      "outputs": [],
      "source": [
        "# create stopwords instance\n",
        "factory = StopWordRemoverFactory()\n",
        "stopwords = factory.create_stop_word_remover()"
      ]
    },
    {
      "cell_type": "code",
      "execution_count": 28,
      "metadata": {
        "id": "OqrY8q859Azu"
      },
      "outputs": [],
      "source": [
        "text = stopwords.remove(text)"
      ]
    },
    {
      "cell_type": "code",
      "execution_count": 29,
      "metadata": {
        "id": "L5rtnK3w9Azx",
        "colab": {
          "base_uri": "https://localhost:8080/",
          "height": 35
        },
        "outputId": "324fdd0a-cb37-49ef-9835-c38221ca4f48"
      },
      "outputs": [
        {
          "output_type": "execute_result",
          "data": {
            "application/vnd.google.colaboratory.intrinsic+json": {
              "type": "string"
            },
            "text/plain": [
              "'Selamat datang Online Bootcamp Python tema Data Mining. Apa kabar kalian semua?'"
            ]
          },
          "metadata": {},
          "execution_count": 29
        }
      ],
      "source": [
        "text"
      ]
    },
    {
      "cell_type": "code",
      "source": [
        "text= text.lower()"
      ],
      "metadata": {
        "id": "6F5mlj0PLP8s"
      },
      "execution_count": 30,
      "outputs": []
    },
    {
      "cell_type": "markdown",
      "metadata": {
        "id": "oixQr3wU9Azy"
      },
      "source": [
        "Add new stopwords into existed stopwords"
      ]
    },
    {
      "cell_type": "code",
      "execution_count": 31,
      "metadata": {
        "id": "ouVt-nZ-9Az7"
      },
      "outputs": [],
      "source": [
        "# create a new list of stopwords\n",
        "new_stopwords = ['apa', 'selamat', 'kalian']\n",
        "\n",
        "# add both stopwords \n",
        "all_stopwords = stopword_list + new_stopwords\n",
        "\n",
        "# create ArrayDictionary \n",
        "stopword_dict = ArrayDictionary(all_stopwords)\n",
        "\n",
        "sastrawi_stopwords = StopWordRemover(stopword_dict)"
      ]
    },
    {
      "cell_type": "code",
      "source": [
        ""
      ],
      "metadata": {
        "id": "qzwJEkDWMBOy"
      },
      "execution_count": null,
      "outputs": []
    },
    {
      "cell_type": "code",
      "execution_count": 32,
      "metadata": {
        "id": "DWeaFLo39Az8",
        "colab": {
          "base_uri": "https://localhost:8080/",
          "height": 35
        },
        "outputId": "6551a9d5-bfb8-4470-ccf1-84239a04c49a"
      },
      "outputs": [
        {
          "output_type": "execute_result",
          "data": {
            "application/vnd.google.colaboratory.intrinsic+json": {
              "type": "string"
            },
            "text/plain": [
              "'datang online bootcamp python tema data mining. kabar semua?'"
            ]
          },
          "metadata": {},
          "execution_count": 32
        }
      ],
      "source": [
        "text = sastrawi_stopwords.remove(text)\n",
        "text"
      ]
    },
    {
      "cell_type": "markdown",
      "metadata": {
        "id": "F_5VovI09Az9"
      },
      "source": [
        "- Library NLP ID"
      ]
    },
    {
      "cell_type": "code",
      "execution_count": 33,
      "metadata": {
        "id": "sUmOeR8Y9Az-"
      },
      "outputs": [],
      "source": [
        "from nlp_id.stopword import StopWord "
      ]
    },
    {
      "cell_type": "code",
      "execution_count": null,
      "metadata": {
        "id": "TU2mbfqH9A0B"
      },
      "outputs": [],
      "source": [
        "# create instance stopword\n",
        "stopword = StopWord() \n",
        "stopword.get_stopword()"
      ]
    },
    {
      "cell_type": "code",
      "execution_count": 36,
      "metadata": {
        "id": "U6ji9BEw9A0G"
      },
      "outputs": [],
      "source": [
        "text = \"Selamat datang di Online Bootcamp Python dengan tema Data Mining. Apa kabar kalian semua?\""
      ]
    },
    {
      "cell_type": "code",
      "execution_count": 37,
      "metadata": {
        "id": "Zp6BSbpP9A0L",
        "colab": {
          "base_uri": "https://localhost:8080/",
          "height": 35
        },
        "outputId": "20ef3d7e-9b69-49b8-debd-7e9a9ac11cbf"
      },
      "outputs": [
        {
          "output_type": "execute_result",
          "data": {
            "application/vnd.google.colaboratory.intrinsic+json": {
              "type": "string"
            },
            "text/plain": [
              "'Selamat Online Bootcamp Python tema Data Mining. kabar?'"
            ]
          },
          "metadata": {},
          "execution_count": 37
        }
      ],
      "source": [
        "text = stopword.remove_stopword(text)\n",
        "text"
      ]
    },
    {
      "cell_type": "markdown",
      "metadata": {
        "id": "4JIKvebo9A0M"
      },
      "source": [
        "Let's try into dataframe"
      ]
    },
    {
      "cell_type": "code",
      "execution_count": 38,
      "metadata": {
        "id": "Hn6WJeBv9A0O"
      },
      "outputs": [],
      "source": [
        "def remove_stopword_with_sastrawi(text):\n",
        "    text = sastrawi_stopwords.remove(text)\n",
        "    return text"
      ]
    },
    {
      "cell_type": "code",
      "source": [
        "df[\"remove_stopword_with_sastrawi\"] = df[\"normalisasi\"].apply(remove_stopword_with_sastrawi)"
      ],
      "metadata": {
        "id": "sq5wpiNuNN90"
      },
      "execution_count": 39,
      "outputs": []
    },
    {
      "cell_type": "code",
      "source": [
        "before_stopword = df['normalisasi'][10]\n",
        "after_stopword = df['remove_stopword_with_sastrawi'][10]\n",
        "print(before_stopword)\n",
        "print(after_stopword)"
      ],
      "metadata": {
        "colab": {
          "base_uri": "https://localhost:8080/"
        },
        "id": "G0YkdVMXNi2o",
        "outputId": "92805e55-a3f3-4ce2-95a2-7c509ce28854"
      },
      "execution_count": 40,
      "outputs": [
        {
          "output_type": "stream",
          "name": "stdout",
          "text": [
            "gelar konser bintang di surga noah tak sabar sapa penggemarnya di yogyakarta\n",
            "gelar konser bintang surga noah tak sabar sapa penggemarnya yogyakarta\n"
          ]
        }
      ]
    },
    {
      "cell_type": "code",
      "source": [
        "def remove_stopword_with_nlp(text):\n",
        "    text =  stopword.remove_stopword(text)\n",
        "    return text"
      ],
      "metadata": {
        "id": "BVYVKuUPOWHT"
      },
      "execution_count": 41,
      "outputs": []
    },
    {
      "cell_type": "code",
      "source": [
        "df[\"remove_stopword_with_nlp\"] = df[\"normalisasi\"].apply(remove_stopword_with_nlp)"
      ],
      "metadata": {
        "id": "GglxbF1eRy73"
      },
      "execution_count": 42,
      "outputs": []
    },
    {
      "cell_type": "code",
      "source": [
        "\n",
        "before_stopword = df['normalisasi'][2]\n",
        "after_stopword = df['remove_stopword_with_nlp'][2]\n",
        "print(before_stopword)\n",
        "print(after_stopword)"
      ],
      "metadata": {
        "colab": {
          "base_uri": "https://localhost:8080/"
        },
        "id": "p6ITN8CPO40l",
        "outputId": "035b158e-f3ff-4e90-fc40-da8784184667"
      },
      "execution_count": 43,
      "outputs": [
        {
          "output_type": "stream",
          "name": "stdout",
          "text": [
            "foto setelah tercemar tumpahan minyak pantai di thailand ditutup untuk umum\n",
            "foto tercemar tumpahan minyak pantai thailand ditutup\n"
          ]
        }
      ]
    },
    {
      "cell_type": "code",
      "source": [
        "df['lower_judul'][2]"
      ],
      "metadata": {
        "colab": {
          "base_uri": "https://localhost:8080/",
          "height": 35
        },
        "id": "5RTdFi4dSfcU",
        "outputId": "0d0965fb-cb74-4fe9-b717-0e3cf6e50fa5"
      },
      "execution_count": 44,
      "outputs": [
        {
          "output_type": "execute_result",
          "data": {
            "application/vnd.google.colaboratory.intrinsic+json": {
              "type": "string"
            },
            "text/plain": [
              "'foto: setelah tercemar tumpahan minyak, pantai di thailand ditutup untuk umum'"
            ]
          },
          "metadata": {},
          "execution_count": 44
        }
      ]
    },
    {
      "cell_type": "markdown",
      "metadata": {
        "id": "7bVSDswx9A0O"
      },
      "source": [
        "# Text Stemming\n",
        "\n",
        "Menghilangkan imbuhan yang terdapat pada kata-kata dalam sebuah kalimat."
      ]
    },
    {
      "cell_type": "markdown",
      "metadata": {
        "id": "Urb2JwMe9A0P"
      },
      "source": [
        "- Library Sastrawi"
      ]
    },
    {
      "cell_type": "code",
      "execution_count": 45,
      "metadata": {
        "id": "n86MNB3w9A0Q"
      },
      "outputs": [],
      "source": [
        "from Sastrawi.Stemmer.StemmerFactory import StemmerFactory"
      ]
    },
    {
      "cell_type": "code",
      "execution_count": 46,
      "metadata": {
        "id": "Ujto1WEm9A0Z"
      },
      "outputs": [],
      "source": [
        "# create stemmer\n",
        "factory = StemmerFactory()\n",
        "stemmer = factory.create_stemmer()"
      ]
    },
    {
      "cell_type": "code",
      "execution_count": 47,
      "metadata": {
        "id": "GwEuLDND9A0a",
        "colab": {
          "base_uri": "https://localhost:8080/",
          "height": 35
        },
        "outputId": "367e3e96-dd97-41b0-c54c-0aee8075723e"
      },
      "outputs": [
        {
          "output_type": "execute_result",
          "data": {
            "application/vnd.google.colaboratory.intrinsic+json": {
              "type": "string"
            },
            "text/plain": [
              "'bahagia di hari yang senang ini'"
            ]
          },
          "metadata": {},
          "execution_count": 47
        }
      ],
      "source": [
        "# text stemming\n",
        "text = \"berbahagialah di hari yang menyenangkan ini!\"\n",
        "text = stemmer.stem(text)\n",
        "text"
      ]
    },
    {
      "cell_type": "code",
      "source": [
        "def text_steming(text):\n",
        "    text = stemmer.stem(text)\n",
        "    return text"
      ],
      "metadata": {
        "id": "4PSKLCRBnYxq"
      },
      "execution_count": 48,
      "outputs": []
    },
    {
      "cell_type": "markdown",
      "metadata": {
        "id": "CNrRM8vC9A0b"
      },
      "source": [
        "Let's try into dataframe"
      ]
    },
    {
      "cell_type": "code",
      "execution_count": 76,
      "metadata": {
        "id": "i9xARuO09A0c"
      },
      "outputs": [],
      "source": [
        "df[\"stemmed\"]= df['remove_stopword_with_sastrawi'].apply(text_steming)"
      ]
    },
    {
      "cell_type": "code",
      "source": [
        "df[\"remove_stopword_with_sastrawi\"][2]"
      ],
      "metadata": {
        "colab": {
          "base_uri": "https://localhost:8080/",
          "height": 35
        },
        "id": "iTvs4bcCp6tQ",
        "outputId": "16a57b0c-17f9-458f-ee80-4cb2f354ad6e"
      },
      "execution_count": 79,
      "outputs": [
        {
          "output_type": "execute_result",
          "data": {
            "application/vnd.google.colaboratory.intrinsic+json": {
              "type": "string"
            },
            "text/plain": [
              "'foto tercemar tumpahan minyak pantai thailand ditutup umum'"
            ]
          },
          "metadata": {},
          "execution_count": 79
        }
      ]
    },
    {
      "cell_type": "code",
      "source": [
        "df['stemmed'][2]"
      ],
      "metadata": {
        "colab": {
          "base_uri": "https://localhost:8080/",
          "height": 35
        },
        "id": "ukIHIyDFqGjd",
        "outputId": "3e281e4b-605c-4dca-92c2-b7db1f422e2a"
      },
      "execution_count": 80,
      "outputs": [
        {
          "output_type": "execute_result",
          "data": {
            "application/vnd.google.colaboratory.intrinsic+json": {
              "type": "string"
            },
            "text/plain": [
              "'foto cemar tumpah minyak pantai thailand tutup umum'"
            ]
          },
          "metadata": {},
          "execution_count": 80
        }
      ]
    },
    {
      "cell_type": "code",
      "source": [
        "!pip install swifter"
      ],
      "metadata": {
        "id": "8wmtvP9oqUua"
      },
      "execution_count": null,
      "outputs": []
    },
    {
      "cell_type": "code",
      "source": [
        "import swifter"
      ],
      "metadata": {
        "id": "Hi29ZqZvrgBN"
      },
      "execution_count": 49,
      "outputs": []
    },
    {
      "cell_type": "code",
      "source": [
        "df['stemmed'] = df['remove_stopword_with_sastrawi'].swifter.apply(text_steming)"
      ],
      "metadata": {
        "colab": {
          "base_uri": "https://localhost:8080/",
          "height": 49,
          "referenced_widgets": [
            "9889df538097454da87e301129a0a1cf",
            "a71f75a502a24b6bb1801a7e30696e38",
            "9580ed8ee5b647b6ac6d1cf0feefb288",
            "f732867481744e8999f7cb166da2cf4e",
            "2fb573b09dbf49669cec11872b7a2992",
            "e9d584a520c74b8b971eb40b73fbed58",
            "ee0a8ad71c7042efbe5815257d183223",
            "39020deec62a4e10a0494b557ebaba51",
            "c602dbc661814558b839af7959c216b5",
            "097bd2492f944792a1287f4408b4ef34",
            "d3ca2e74d40449aba0665797eb2cdec1"
          ]
        },
        "id": "bHS50uYQrmQ1",
        "outputId": "31ac8b56-098d-4b22-a8bc-176ec4fb8b12"
      },
      "execution_count": 50,
      "outputs": [
        {
          "output_type": "display_data",
          "data": {
            "application/vnd.jupyter.widget-view+json": {
              "model_id": "9889df538097454da87e301129a0a1cf",
              "version_minor": 0,
              "version_major": 2
            },
            "text/plain": [
              "Pandas Apply:   0%|          | 0/3075 [00:00<?, ?it/s]"
            ]
          },
          "metadata": {}
        }
      ]
    },
    {
      "cell_type": "code",
      "source": [
        "df[\"remove_stopword_with_sastrawi\"][2]"
      ],
      "metadata": {
        "colab": {
          "base_uri": "https://localhost:8080/",
          "height": 35
        },
        "id": "pIJVTtnNvhTA",
        "outputId": "56f8f8af-1594-468a-ecd1-297c8cfced1d"
      },
      "execution_count": 51,
      "outputs": [
        {
          "output_type": "execute_result",
          "data": {
            "application/vnd.google.colaboratory.intrinsic+json": {
              "type": "string"
            },
            "text/plain": [
              "'foto tercemar tumpahan minyak pantai thailand ditutup umum'"
            ]
          },
          "metadata": {},
          "execution_count": 51
        }
      ]
    },
    {
      "cell_type": "code",
      "source": [
        "df['stemmed'][2]"
      ],
      "metadata": {
        "colab": {
          "base_uri": "https://localhost:8080/",
          "height": 35
        },
        "id": "6CRRs_xFvnyW",
        "outputId": "05729318-3dee-4e2a-dd84-16a452bbe6b3"
      },
      "execution_count": 52,
      "outputs": [
        {
          "output_type": "execute_result",
          "data": {
            "application/vnd.google.colaboratory.intrinsic+json": {
              "type": "string"
            },
            "text/plain": [
              "'foto cemar tumpah minyak pantai thailand tutup umum'"
            ]
          },
          "metadata": {},
          "execution_count": 52
        }
      ]
    },
    {
      "cell_type": "markdown",
      "metadata": {
        "id": "10kNxy3d9A0l"
      },
      "source": [
        "# Text Lemmatizing\n",
        "\n",
        "Mengubah kata menjadi bentuk bakunya"
      ]
    },
    {
      "cell_type": "markdown",
      "metadata": {
        "id": "49Gn9JE89A0r"
      },
      "source": [
        "- Library NLP ID"
      ]
    },
    {
      "cell_type": "code",
      "execution_count": 53,
      "metadata": {
        "id": "cqXyxKG29A0s"
      },
      "outputs": [],
      "source": [
        "from nlp_id.lemmatizer import Lemmatizer"
      ]
    },
    {
      "cell_type": "code",
      "execution_count": 54,
      "metadata": {
        "id": "MTgzE4pT9A0t"
      },
      "outputs": [],
      "source": [
        "lemmatizer = Lemmatizer()"
      ]
    },
    {
      "cell_type": "code",
      "execution_count": 55,
      "metadata": {
        "id": "q7CgfWQn9A0u"
      },
      "outputs": [],
      "source": [
        "text = 'Saya sedang mencoba untuk belajar penambangan data menggunakan python.'\n",
        "text = lemmatizer.lemmatize(text) "
      ]
    },
    {
      "cell_type": "code",
      "source": [
        "text"
      ],
      "metadata": {
        "id": "xfu9_ML99OMx",
        "colab": {
          "base_uri": "https://localhost:8080/",
          "height": 35
        },
        "outputId": "f51a0989-d7c3-470f-cf31-bd7925aff8d4"
      },
      "execution_count": 56,
      "outputs": [
        {
          "output_type": "execute_result",
          "data": {
            "application/vnd.google.colaboratory.intrinsic+json": {
              "type": "string"
            },
            "text/plain": [
              "'saya sedang coba untuk ajar tambang data guna python'"
            ]
          },
          "metadata": {},
          "execution_count": 56
        }
      ]
    },
    {
      "cell_type": "markdown",
      "metadata": {
        "id": "2rjN226p9A0v"
      },
      "source": [
        "Let's try into dataframe"
      ]
    },
    {
      "cell_type": "code",
      "execution_count": 57,
      "metadata": {
        "id": "Uerzsd9r9A0_"
      },
      "outputs": [],
      "source": [
        "def text_lemmatizing(text):\n",
        "    text = lemmatizer.lemmatize(text)\n",
        "    return text"
      ]
    },
    {
      "cell_type": "code",
      "source": [
        "df['lemmatized']=df['remove_stopword_with_nlp'].swifter.apply(text_lemmatizing)"
      ],
      "metadata": {
        "colab": {
          "base_uri": "https://localhost:8080/",
          "height": 49,
          "referenced_widgets": [
            "d9613035981f4f649fc46f872897d289",
            "4a6c1c10eb9a44b6a69d5696002f2b98",
            "4b89a9b3f892412d85d30fbadace3c78",
            "403dc7ffd76540fbac70a9cd1e8d06a6",
            "dc8ffe76b5004149b50b1c464b55056d",
            "cef336c6ecd04f8bb8e68c868d157fcd",
            "20245309b3d0409b9b1fe01c6c66ee44",
            "f638d02d08254a1fa287f5e5ea3ac715",
            "1b032928d7994f96a63a30fe8849f338",
            "c21268e939a14288a599ad169c8521fc",
            "9b10f878629a47b985def3a3d646f28c"
          ]
        },
        "id": "C8suy4MOxZ2V",
        "outputId": "2cb01671-4ecc-42f0-e004-9229531f0610"
      },
      "execution_count": 58,
      "outputs": [
        {
          "output_type": "display_data",
          "data": {
            "application/vnd.jupyter.widget-view+json": {
              "model_id": "d9613035981f4f649fc46f872897d289",
              "version_minor": 0,
              "version_major": 2
            },
            "text/plain": [
              "Pandas Apply:   0%|          | 0/3075 [00:00<?, ?it/s]"
            ]
          },
          "metadata": {}
        }
      ]
    },
    {
      "cell_type": "code",
      "source": [
        "df['remove_stopword_with_nlp'][1210]"
      ],
      "metadata": {
        "colab": {
          "base_uri": "https://localhost:8080/",
          "height": 35
        },
        "id": "Bo-UVXkhxyHd",
        "outputId": "ea8df168-0bec-4f92-805b-fd731cb92146"
      },
      "execution_count": 61,
      "outputs": [
        {
          "output_type": "execute_result",
          "data": {
            "application/vnd.google.colaboratory.intrinsic+json": {
              "type": "string"
            },
            "text/plain": [
              "'ranking fifa timnas indonesia kalahkan timor leste selangkah geser singapura'"
            ]
          },
          "metadata": {},
          "execution_count": 61
        }
      ]
    },
    {
      "cell_type": "code",
      "source": [
        "df['lemmatized'][1210]"
      ],
      "metadata": {
        "colab": {
          "base_uri": "https://localhost:8080/",
          "height": 35
        },
        "id": "vH_cFGtdx3JI",
        "outputId": "af2a114b-a78d-4b75-be8c-e066ee2b1263"
      },
      "execution_count": 62,
      "outputs": [
        {
          "output_type": "execute_result",
          "data": {
            "application/vnd.google.colaboratory.intrinsic+json": {
              "type": "string"
            },
            "text/plain": [
              "'ranking fifa timnas indonesia kalah timor leste langkah geser singapura'"
            ]
          },
          "metadata": {},
          "execution_count": 62
        }
      ]
    },
    {
      "cell_type": "code",
      "source": [
        "df.head()"
      ],
      "metadata": {
        "colab": {
          "base_uri": "https://localhost:8080/",
          "height": 739
        },
        "id": "6xngEBjkyLe-",
        "outputId": "46ebde42-1408-40d3-efb3-f7e2d18791a2"
      },
      "execution_count": 63,
      "outputs": [
        {
          "output_type": "execute_result",
          "data": {
            "text/html": [
              "\n",
              "  <div id=\"df-2c3ef69d-b073-478e-b3da-c417d4e9803a\">\n",
              "    <div class=\"colab-df-container\">\n",
              "      <div>\n",
              "<style scoped>\n",
              "    .dataframe tbody tr th:only-of-type {\n",
              "        vertical-align: middle;\n",
              "    }\n",
              "\n",
              "    .dataframe tbody tr th {\n",
              "        vertical-align: top;\n",
              "    }\n",
              "\n",
              "    .dataframe thead th {\n",
              "        text-align: right;\n",
              "    }\n",
              "</style>\n",
              "<table border=\"1\" class=\"dataframe\">\n",
              "  <thead>\n",
              "    <tr style=\"text-align: right;\">\n",
              "      <th></th>\n",
              "      <th>judul</th>\n",
              "      <th>kategori</th>\n",
              "      <th>tanggal_upload</th>\n",
              "      <th>waktu_upload</th>\n",
              "      <th>link_berita</th>\n",
              "      <th>lower_judul</th>\n",
              "      <th>lower_kategori</th>\n",
              "      <th>normalisasi</th>\n",
              "      <th>remove_stopword_with_sastrawi</th>\n",
              "      <th>remove_stopword_with_nlp</th>\n",
              "      <th>stemmed</th>\n",
              "      <th>lemmatized</th>\n",
              "    </tr>\n",
              "  </thead>\n",
              "  <tbody>\n",
              "    <tr>\n",
              "      <th>0</th>\n",
              "      <td>Indonesia Kini Punya Sertifikat Vaksin Interna...</td>\n",
              "      <td>WIKEN</td>\n",
              "      <td>29/01/2022</td>\n",
              "      <td>22:03 WIB</td>\n",
              "      <td>https://www.kompas.com/wiken/read/2022/01/29/2...</td>\n",
              "      <td>indonesia kini punya sertifikat vaksin interna...</td>\n",
              "      <td>wiken</td>\n",
              "      <td>indonesia kini punya sertifikat vaksin interna...</td>\n",
              "      <td>indonesia kini punya sertifikat vaksin interna...</td>\n",
              "      <td>indonesia sertifikat vaksin internasional akse...</td>\n",
              "      <td>indonesia kini punya sertifikat vaksin interna...</td>\n",
              "      <td>indonesia sertifikat vaksin internasional akses</td>\n",
              "    </tr>\n",
              "    <tr>\n",
              "      <th>1</th>\n",
              "      <td>Resep Ayam Bakar Klaten, Aromanya Gurih karena...</td>\n",
              "      <td>FOOD</td>\n",
              "      <td>29/01/2022</td>\n",
              "      <td>22:03 WIB</td>\n",
              "      <td>https://www.kompas.com/food/read/2022/01/29/22...</td>\n",
              "      <td>resep ayam bakar klaten, aromanya gurih karena...</td>\n",
              "      <td>food</td>\n",
              "      <td>resep ayam bakar klaten aromanya gurih karena ...</td>\n",
              "      <td>resep ayam bakar klaten aromanya gurih pakai s...</td>\n",
              "      <td>resep ayam bakar klaten aromanya gurih pakai s...</td>\n",
              "      <td>resep ayam bakar klaten aroma gurih pakai santan</td>\n",
              "      <td>resep ayam bakar klaten aroma gurih pakai santan</td>\n",
              "    </tr>\n",
              "    <tr>\n",
              "      <th>2</th>\n",
              "      <td>FOTO: Setelah Tercemar Tumpahan Minyak, Pantai...</td>\n",
              "      <td>GLOBAL</td>\n",
              "      <td>29/01/2022</td>\n",
              "      <td>22:01 WIB</td>\n",
              "      <td>https://www.kompas.com/global/read/2022/01/29/...</td>\n",
              "      <td>foto: setelah tercemar tumpahan minyak, pantai...</td>\n",
              "      <td>global</td>\n",
              "      <td>foto setelah tercemar tumpahan minyak pantai d...</td>\n",
              "      <td>foto tercemar tumpahan minyak pantai thailand ...</td>\n",
              "      <td>foto tercemar tumpahan minyak pantai thailand ...</td>\n",
              "      <td>foto cemar tumpah minyak pantai thailand tutup...</td>\n",
              "      <td>foto cemar tumpah minyak pantai thailand tutup</td>\n",
              "    </tr>\n",
              "    <tr>\n",
              "      <th>3</th>\n",
              "      <td>Resmi ke Juventus, Buffon Sandingkan Dusan Vla...</td>\n",
              "      <td>BOLA</td>\n",
              "      <td>29/01/2022</td>\n",
              "      <td>22:00 WIB</td>\n",
              "      <td>https://bola.kompas.com/read/2022/01/29/220000...</td>\n",
              "      <td>resmi ke juventus, buffon sandingkan dusan vla...</td>\n",
              "      <td>bola</td>\n",
              "      <td>resmi ke juventus buffon sandingkan dusan vlah...</td>\n",
              "      <td>resmi juventus buffon sandingkan dusan vlahovi...</td>\n",
              "      <td>resmi juventus buffon sandingkan dusan vlahovi...</td>\n",
              "      <td>resmi juventus buffon sanding dus vlahovic mba...</td>\n",
              "      <td>resmi juventus buffon sanding dus vlahovic mba...</td>\n",
              "    </tr>\n",
              "    <tr>\n",
              "      <th>4</th>\n",
              "      <td>6 Penyebab Vagina Gatal</td>\n",
              "      <td>HEALTH</td>\n",
              "      <td>29/01/2022</td>\n",
              "      <td>22:00 WIB</td>\n",
              "      <td>https://health.kompas.com/read/2022/01/29/2200...</td>\n",
              "      <td>6 penyebab vagina gatal</td>\n",
              "      <td>health</td>\n",
              "      <td>penyebab vagina gatal</td>\n",
              "      <td>penyebab vagina gatal</td>\n",
              "      <td>penyebab vagina gatal</td>\n",
              "      <td>sebab vagina gatal</td>\n",
              "      <td>sebab vagina gatal</td>\n",
              "    </tr>\n",
              "  </tbody>\n",
              "</table>\n",
              "</div>\n",
              "      <button class=\"colab-df-convert\" onclick=\"convertToInteractive('df-2c3ef69d-b073-478e-b3da-c417d4e9803a')\"\n",
              "              title=\"Convert this dataframe to an interactive table.\"\n",
              "              style=\"display:none;\">\n",
              "        \n",
              "  <svg xmlns=\"http://www.w3.org/2000/svg\" height=\"24px\"viewBox=\"0 0 24 24\"\n",
              "       width=\"24px\">\n",
              "    <path d=\"M0 0h24v24H0V0z\" fill=\"none\"/>\n",
              "    <path d=\"M18.56 5.44l.94 2.06.94-2.06 2.06-.94-2.06-.94-.94-2.06-.94 2.06-2.06.94zm-11 1L8.5 8.5l.94-2.06 2.06-.94-2.06-.94L8.5 2.5l-.94 2.06-2.06.94zm10 10l.94 2.06.94-2.06 2.06-.94-2.06-.94-.94-2.06-.94 2.06-2.06.94z\"/><path d=\"M17.41 7.96l-1.37-1.37c-.4-.4-.92-.59-1.43-.59-.52 0-1.04.2-1.43.59L10.3 9.45l-7.72 7.72c-.78.78-.78 2.05 0 2.83L4 21.41c.39.39.9.59 1.41.59.51 0 1.02-.2 1.41-.59l7.78-7.78 2.81-2.81c.8-.78.8-2.07 0-2.86zM5.41 20L4 18.59l7.72-7.72 1.47 1.35L5.41 20z\"/>\n",
              "  </svg>\n",
              "      </button>\n",
              "      \n",
              "  <style>\n",
              "    .colab-df-container {\n",
              "      display:flex;\n",
              "      flex-wrap:wrap;\n",
              "      gap: 12px;\n",
              "    }\n",
              "\n",
              "    .colab-df-convert {\n",
              "      background-color: #E8F0FE;\n",
              "      border: none;\n",
              "      border-radius: 50%;\n",
              "      cursor: pointer;\n",
              "      display: none;\n",
              "      fill: #1967D2;\n",
              "      height: 32px;\n",
              "      padding: 0 0 0 0;\n",
              "      width: 32px;\n",
              "    }\n",
              "\n",
              "    .colab-df-convert:hover {\n",
              "      background-color: #E2EBFA;\n",
              "      box-shadow: 0px 1px 2px rgba(60, 64, 67, 0.3), 0px 1px 3px 1px rgba(60, 64, 67, 0.15);\n",
              "      fill: #174EA6;\n",
              "    }\n",
              "\n",
              "    [theme=dark] .colab-df-convert {\n",
              "      background-color: #3B4455;\n",
              "      fill: #D2E3FC;\n",
              "    }\n",
              "\n",
              "    [theme=dark] .colab-df-convert:hover {\n",
              "      background-color: #434B5C;\n",
              "      box-shadow: 0px 1px 3px 1px rgba(0, 0, 0, 0.15);\n",
              "      filter: drop-shadow(0px 1px 2px rgba(0, 0, 0, 0.3));\n",
              "      fill: #FFFFFF;\n",
              "    }\n",
              "  </style>\n",
              "\n",
              "      <script>\n",
              "        const buttonEl =\n",
              "          document.querySelector('#df-2c3ef69d-b073-478e-b3da-c417d4e9803a button.colab-df-convert');\n",
              "        buttonEl.style.display =\n",
              "          google.colab.kernel.accessAllowed ? 'block' : 'none';\n",
              "\n",
              "        async function convertToInteractive(key) {\n",
              "          const element = document.querySelector('#df-2c3ef69d-b073-478e-b3da-c417d4e9803a');\n",
              "          const dataTable =\n",
              "            await google.colab.kernel.invokeFunction('convertToInteractive',\n",
              "                                                     [key], {});\n",
              "          if (!dataTable) return;\n",
              "\n",
              "          const docLinkHtml = 'Like what you see? Visit the ' +\n",
              "            '<a target=\"_blank\" href=https://colab.research.google.com/notebooks/data_table.ipynb>data table notebook</a>'\n",
              "            + ' to learn more about interactive tables.';\n",
              "          element.innerHTML = '';\n",
              "          dataTable['output_type'] = 'display_data';\n",
              "          await google.colab.output.renderOutput(dataTable, element);\n",
              "          const docLink = document.createElement('div');\n",
              "          docLink.innerHTML = docLinkHtml;\n",
              "          element.appendChild(docLink);\n",
              "        }\n",
              "      </script>\n",
              "    </div>\n",
              "  </div>\n",
              "  "
            ],
            "text/plain": [
              "                                               judul  ...                                         lemmatized\n",
              "0  Indonesia Kini Punya Sertifikat Vaksin Interna...  ...    indonesia sertifikat vaksin internasional akses\n",
              "1  Resep Ayam Bakar Klaten, Aromanya Gurih karena...  ...   resep ayam bakar klaten aroma gurih pakai santan\n",
              "2  FOTO: Setelah Tercemar Tumpahan Minyak, Pantai...  ...     foto cemar tumpah minyak pantai thailand tutup\n",
              "3  Resmi ke Juventus, Buffon Sandingkan Dusan Vla...  ...  resmi juventus buffon sanding dus vlahovic mba...\n",
              "4                            6 Penyebab Vagina Gatal  ...                                 sebab vagina gatal\n",
              "\n",
              "[5 rows x 12 columns]"
            ]
          },
          "metadata": {},
          "execution_count": 63
        }
      ]
    },
    {
      "cell_type": "code",
      "source": [
        ""
      ],
      "metadata": {
        "id": "udhZQ8-ey_PR"
      },
      "execution_count": null,
      "outputs": []
    }
  ],
  "metadata": {
    "kernelspec": {
      "display_name": "Python 3",
      "language": "python",
      "name": "python3"
    },
    "language_info": {
      "codemirror_mode": {
        "name": "ipython",
        "version": 3
      },
      "file_extension": ".py",
      "mimetype": "text/x-python",
      "name": "python",
      "nbconvert_exporter": "python",
      "pygments_lexer": "ipython3",
      "version": "3.7.4"
    },
    "colab": {
      "name": "Preprocessing.ipynb",
      "provenance": []
    },
    "widgets": {
      "application/vnd.jupyter.widget-state+json": {
        "9889df538097454da87e301129a0a1cf": {
          "model_module": "@jupyter-widgets/controls",
          "model_name": "HBoxModel",
          "model_module_version": "1.5.0",
          "state": {
            "_view_name": "HBoxView",
            "_dom_classes": [],
            "_model_name": "HBoxModel",
            "_view_module": "@jupyter-widgets/controls",
            "_model_module_version": "1.5.0",
            "_view_count": null,
            "_view_module_version": "1.5.0",
            "box_style": "",
            "layout": "IPY_MODEL_a71f75a502a24b6bb1801a7e30696e38",
            "_model_module": "@jupyter-widgets/controls",
            "children": [
              "IPY_MODEL_9580ed8ee5b647b6ac6d1cf0feefb288",
              "IPY_MODEL_f732867481744e8999f7cb166da2cf4e",
              "IPY_MODEL_2fb573b09dbf49669cec11872b7a2992"
            ]
          }
        },
        "a71f75a502a24b6bb1801a7e30696e38": {
          "model_module": "@jupyter-widgets/base",
          "model_name": "LayoutModel",
          "model_module_version": "1.2.0",
          "state": {
            "_view_name": "LayoutView",
            "grid_template_rows": null,
            "right": null,
            "justify_content": null,
            "_view_module": "@jupyter-widgets/base",
            "overflow": null,
            "_model_module_version": "1.2.0",
            "_view_count": null,
            "flex_flow": null,
            "width": null,
            "min_width": null,
            "border": null,
            "align_items": null,
            "bottom": null,
            "_model_module": "@jupyter-widgets/base",
            "top": null,
            "grid_column": null,
            "overflow_y": null,
            "overflow_x": null,
            "grid_auto_flow": null,
            "grid_area": null,
            "grid_template_columns": null,
            "flex": null,
            "_model_name": "LayoutModel",
            "justify_items": null,
            "grid_row": null,
            "max_height": null,
            "align_content": null,
            "visibility": null,
            "align_self": null,
            "height": null,
            "min_height": null,
            "padding": null,
            "grid_auto_rows": null,
            "grid_gap": null,
            "max_width": null,
            "order": null,
            "_view_module_version": "1.2.0",
            "grid_template_areas": null,
            "object_position": null,
            "object_fit": null,
            "grid_auto_columns": null,
            "margin": null,
            "display": null,
            "left": null
          }
        },
        "9580ed8ee5b647b6ac6d1cf0feefb288": {
          "model_module": "@jupyter-widgets/controls",
          "model_name": "HTMLModel",
          "model_module_version": "1.5.0",
          "state": {
            "_view_name": "HTMLView",
            "style": "IPY_MODEL_e9d584a520c74b8b971eb40b73fbed58",
            "_dom_classes": [],
            "description": "",
            "_model_name": "HTMLModel",
            "placeholder": "​",
            "_view_module": "@jupyter-widgets/controls",
            "_model_module_version": "1.5.0",
            "value": "Pandas Apply: 100%",
            "_view_count": null,
            "_view_module_version": "1.5.0",
            "description_tooltip": null,
            "_model_module": "@jupyter-widgets/controls",
            "layout": "IPY_MODEL_ee0a8ad71c7042efbe5815257d183223"
          }
        },
        "f732867481744e8999f7cb166da2cf4e": {
          "model_module": "@jupyter-widgets/controls",
          "model_name": "FloatProgressModel",
          "model_module_version": "1.5.0",
          "state": {
            "_view_name": "ProgressView",
            "style": "IPY_MODEL_39020deec62a4e10a0494b557ebaba51",
            "_dom_classes": [],
            "description": "",
            "_model_name": "FloatProgressModel",
            "bar_style": "success",
            "max": 3075,
            "_view_module": "@jupyter-widgets/controls",
            "_model_module_version": "1.5.0",
            "value": 3075,
            "_view_count": null,
            "_view_module_version": "1.5.0",
            "orientation": "horizontal",
            "min": 0,
            "description_tooltip": null,
            "_model_module": "@jupyter-widgets/controls",
            "layout": "IPY_MODEL_c602dbc661814558b839af7959c216b5"
          }
        },
        "2fb573b09dbf49669cec11872b7a2992": {
          "model_module": "@jupyter-widgets/controls",
          "model_name": "HTMLModel",
          "model_module_version": "1.5.0",
          "state": {
            "_view_name": "HTMLView",
            "style": "IPY_MODEL_097bd2492f944792a1287f4408b4ef34",
            "_dom_classes": [],
            "description": "",
            "_model_name": "HTMLModel",
            "placeholder": "​",
            "_view_module": "@jupyter-widgets/controls",
            "_model_module_version": "1.5.0",
            "value": " 3075/3075 [07:51&lt;00:00, 13.03it/s]",
            "_view_count": null,
            "_view_module_version": "1.5.0",
            "description_tooltip": null,
            "_model_module": "@jupyter-widgets/controls",
            "layout": "IPY_MODEL_d3ca2e74d40449aba0665797eb2cdec1"
          }
        },
        "e9d584a520c74b8b971eb40b73fbed58": {
          "model_module": "@jupyter-widgets/controls",
          "model_name": "DescriptionStyleModel",
          "model_module_version": "1.5.0",
          "state": {
            "_view_name": "StyleView",
            "_model_name": "DescriptionStyleModel",
            "description_width": "",
            "_view_module": "@jupyter-widgets/base",
            "_model_module_version": "1.5.0",
            "_view_count": null,
            "_view_module_version": "1.2.0",
            "_model_module": "@jupyter-widgets/controls"
          }
        },
        "ee0a8ad71c7042efbe5815257d183223": {
          "model_module": "@jupyter-widgets/base",
          "model_name": "LayoutModel",
          "model_module_version": "1.2.0",
          "state": {
            "_view_name": "LayoutView",
            "grid_template_rows": null,
            "right": null,
            "justify_content": null,
            "_view_module": "@jupyter-widgets/base",
            "overflow": null,
            "_model_module_version": "1.2.0",
            "_view_count": null,
            "flex_flow": null,
            "width": null,
            "min_width": null,
            "border": null,
            "align_items": null,
            "bottom": null,
            "_model_module": "@jupyter-widgets/base",
            "top": null,
            "grid_column": null,
            "overflow_y": null,
            "overflow_x": null,
            "grid_auto_flow": null,
            "grid_area": null,
            "grid_template_columns": null,
            "flex": null,
            "_model_name": "LayoutModel",
            "justify_items": null,
            "grid_row": null,
            "max_height": null,
            "align_content": null,
            "visibility": null,
            "align_self": null,
            "height": null,
            "min_height": null,
            "padding": null,
            "grid_auto_rows": null,
            "grid_gap": null,
            "max_width": null,
            "order": null,
            "_view_module_version": "1.2.0",
            "grid_template_areas": null,
            "object_position": null,
            "object_fit": null,
            "grid_auto_columns": null,
            "margin": null,
            "display": null,
            "left": null
          }
        },
        "39020deec62a4e10a0494b557ebaba51": {
          "model_module": "@jupyter-widgets/controls",
          "model_name": "ProgressStyleModel",
          "model_module_version": "1.5.0",
          "state": {
            "_view_name": "StyleView",
            "_model_name": "ProgressStyleModel",
            "description_width": "",
            "_view_module": "@jupyter-widgets/base",
            "_model_module_version": "1.5.0",
            "_view_count": null,
            "_view_module_version": "1.2.0",
            "bar_color": null,
            "_model_module": "@jupyter-widgets/controls"
          }
        },
        "c602dbc661814558b839af7959c216b5": {
          "model_module": "@jupyter-widgets/base",
          "model_name": "LayoutModel",
          "model_module_version": "1.2.0",
          "state": {
            "_view_name": "LayoutView",
            "grid_template_rows": null,
            "right": null,
            "justify_content": null,
            "_view_module": "@jupyter-widgets/base",
            "overflow": null,
            "_model_module_version": "1.2.0",
            "_view_count": null,
            "flex_flow": null,
            "width": null,
            "min_width": null,
            "border": null,
            "align_items": null,
            "bottom": null,
            "_model_module": "@jupyter-widgets/base",
            "top": null,
            "grid_column": null,
            "overflow_y": null,
            "overflow_x": null,
            "grid_auto_flow": null,
            "grid_area": null,
            "grid_template_columns": null,
            "flex": null,
            "_model_name": "LayoutModel",
            "justify_items": null,
            "grid_row": null,
            "max_height": null,
            "align_content": null,
            "visibility": null,
            "align_self": null,
            "height": null,
            "min_height": null,
            "padding": null,
            "grid_auto_rows": null,
            "grid_gap": null,
            "max_width": null,
            "order": null,
            "_view_module_version": "1.2.0",
            "grid_template_areas": null,
            "object_position": null,
            "object_fit": null,
            "grid_auto_columns": null,
            "margin": null,
            "display": null,
            "left": null
          }
        },
        "097bd2492f944792a1287f4408b4ef34": {
          "model_module": "@jupyter-widgets/controls",
          "model_name": "DescriptionStyleModel",
          "model_module_version": "1.5.0",
          "state": {
            "_view_name": "StyleView",
            "_model_name": "DescriptionStyleModel",
            "description_width": "",
            "_view_module": "@jupyter-widgets/base",
            "_model_module_version": "1.5.0",
            "_view_count": null,
            "_view_module_version": "1.2.0",
            "_model_module": "@jupyter-widgets/controls"
          }
        },
        "d3ca2e74d40449aba0665797eb2cdec1": {
          "model_module": "@jupyter-widgets/base",
          "model_name": "LayoutModel",
          "model_module_version": "1.2.0",
          "state": {
            "_view_name": "LayoutView",
            "grid_template_rows": null,
            "right": null,
            "justify_content": null,
            "_view_module": "@jupyter-widgets/base",
            "overflow": null,
            "_model_module_version": "1.2.0",
            "_view_count": null,
            "flex_flow": null,
            "width": null,
            "min_width": null,
            "border": null,
            "align_items": null,
            "bottom": null,
            "_model_module": "@jupyter-widgets/base",
            "top": null,
            "grid_column": null,
            "overflow_y": null,
            "overflow_x": null,
            "grid_auto_flow": null,
            "grid_area": null,
            "grid_template_columns": null,
            "flex": null,
            "_model_name": "LayoutModel",
            "justify_items": null,
            "grid_row": null,
            "max_height": null,
            "align_content": null,
            "visibility": null,
            "align_self": null,
            "height": null,
            "min_height": null,
            "padding": null,
            "grid_auto_rows": null,
            "grid_gap": null,
            "max_width": null,
            "order": null,
            "_view_module_version": "1.2.0",
            "grid_template_areas": null,
            "object_position": null,
            "object_fit": null,
            "grid_auto_columns": null,
            "margin": null,
            "display": null,
            "left": null
          }
        },
        "d9613035981f4f649fc46f872897d289": {
          "model_module": "@jupyter-widgets/controls",
          "model_name": "HBoxModel",
          "model_module_version": "1.5.0",
          "state": {
            "_view_name": "HBoxView",
            "_dom_classes": [],
            "_model_name": "HBoxModel",
            "_view_module": "@jupyter-widgets/controls",
            "_model_module_version": "1.5.0",
            "_view_count": null,
            "_view_module_version": "1.5.0",
            "box_style": "",
            "layout": "IPY_MODEL_4a6c1c10eb9a44b6a69d5696002f2b98",
            "_model_module": "@jupyter-widgets/controls",
            "children": [
              "IPY_MODEL_4b89a9b3f892412d85d30fbadace3c78",
              "IPY_MODEL_403dc7ffd76540fbac70a9cd1e8d06a6",
              "IPY_MODEL_dc8ffe76b5004149b50b1c464b55056d"
            ]
          }
        },
        "4a6c1c10eb9a44b6a69d5696002f2b98": {
          "model_module": "@jupyter-widgets/base",
          "model_name": "LayoutModel",
          "model_module_version": "1.2.0",
          "state": {
            "_view_name": "LayoutView",
            "grid_template_rows": null,
            "right": null,
            "justify_content": null,
            "_view_module": "@jupyter-widgets/base",
            "overflow": null,
            "_model_module_version": "1.2.0",
            "_view_count": null,
            "flex_flow": null,
            "width": null,
            "min_width": null,
            "border": null,
            "align_items": null,
            "bottom": null,
            "_model_module": "@jupyter-widgets/base",
            "top": null,
            "grid_column": null,
            "overflow_y": null,
            "overflow_x": null,
            "grid_auto_flow": null,
            "grid_area": null,
            "grid_template_columns": null,
            "flex": null,
            "_model_name": "LayoutModel",
            "justify_items": null,
            "grid_row": null,
            "max_height": null,
            "align_content": null,
            "visibility": null,
            "align_self": null,
            "height": null,
            "min_height": null,
            "padding": null,
            "grid_auto_rows": null,
            "grid_gap": null,
            "max_width": null,
            "order": null,
            "_view_module_version": "1.2.0",
            "grid_template_areas": null,
            "object_position": null,
            "object_fit": null,
            "grid_auto_columns": null,
            "margin": null,
            "display": null,
            "left": null
          }
        },
        "4b89a9b3f892412d85d30fbadace3c78": {
          "model_module": "@jupyter-widgets/controls",
          "model_name": "HTMLModel",
          "model_module_version": "1.5.0",
          "state": {
            "_view_name": "HTMLView",
            "style": "IPY_MODEL_cef336c6ecd04f8bb8e68c868d157fcd",
            "_dom_classes": [],
            "description": "",
            "_model_name": "HTMLModel",
            "placeholder": "​",
            "_view_module": "@jupyter-widgets/controls",
            "_model_module_version": "1.5.0",
            "value": "Pandas Apply: 100%",
            "_view_count": null,
            "_view_module_version": "1.5.0",
            "description_tooltip": null,
            "_model_module": "@jupyter-widgets/controls",
            "layout": "IPY_MODEL_20245309b3d0409b9b1fe01c6c66ee44"
          }
        },
        "403dc7ffd76540fbac70a9cd1e8d06a6": {
          "model_module": "@jupyter-widgets/controls",
          "model_name": "FloatProgressModel",
          "model_module_version": "1.5.0",
          "state": {
            "_view_name": "ProgressView",
            "style": "IPY_MODEL_f638d02d08254a1fa287f5e5ea3ac715",
            "_dom_classes": [],
            "description": "",
            "_model_name": "FloatProgressModel",
            "bar_style": "success",
            "max": 3075,
            "_view_module": "@jupyter-widgets/controls",
            "_model_module_version": "1.5.0",
            "value": 3075,
            "_view_count": null,
            "_view_module_version": "1.5.0",
            "orientation": "horizontal",
            "min": 0,
            "description_tooltip": null,
            "_model_module": "@jupyter-widgets/controls",
            "layout": "IPY_MODEL_1b032928d7994f96a63a30fe8849f338"
          }
        },
        "dc8ffe76b5004149b50b1c464b55056d": {
          "model_module": "@jupyter-widgets/controls",
          "model_name": "HTMLModel",
          "model_module_version": "1.5.0",
          "state": {
            "_view_name": "HTMLView",
            "style": "IPY_MODEL_c21268e939a14288a599ad169c8521fc",
            "_dom_classes": [],
            "description": "",
            "_model_name": "HTMLModel",
            "placeholder": "​",
            "_view_module": "@jupyter-widgets/controls",
            "_model_module_version": "1.5.0",
            "value": " 3075/3075 [00:00&lt;00:00, 10085.43it/s]",
            "_view_count": null,
            "_view_module_version": "1.5.0",
            "description_tooltip": null,
            "_model_module": "@jupyter-widgets/controls",
            "layout": "IPY_MODEL_9b10f878629a47b985def3a3d646f28c"
          }
        },
        "cef336c6ecd04f8bb8e68c868d157fcd": {
          "model_module": "@jupyter-widgets/controls",
          "model_name": "DescriptionStyleModel",
          "model_module_version": "1.5.0",
          "state": {
            "_view_name": "StyleView",
            "_model_name": "DescriptionStyleModel",
            "description_width": "",
            "_view_module": "@jupyter-widgets/base",
            "_model_module_version": "1.5.0",
            "_view_count": null,
            "_view_module_version": "1.2.0",
            "_model_module": "@jupyter-widgets/controls"
          }
        },
        "20245309b3d0409b9b1fe01c6c66ee44": {
          "model_module": "@jupyter-widgets/base",
          "model_name": "LayoutModel",
          "model_module_version": "1.2.0",
          "state": {
            "_view_name": "LayoutView",
            "grid_template_rows": null,
            "right": null,
            "justify_content": null,
            "_view_module": "@jupyter-widgets/base",
            "overflow": null,
            "_model_module_version": "1.2.0",
            "_view_count": null,
            "flex_flow": null,
            "width": null,
            "min_width": null,
            "border": null,
            "align_items": null,
            "bottom": null,
            "_model_module": "@jupyter-widgets/base",
            "top": null,
            "grid_column": null,
            "overflow_y": null,
            "overflow_x": null,
            "grid_auto_flow": null,
            "grid_area": null,
            "grid_template_columns": null,
            "flex": null,
            "_model_name": "LayoutModel",
            "justify_items": null,
            "grid_row": null,
            "max_height": null,
            "align_content": null,
            "visibility": null,
            "align_self": null,
            "height": null,
            "min_height": null,
            "padding": null,
            "grid_auto_rows": null,
            "grid_gap": null,
            "max_width": null,
            "order": null,
            "_view_module_version": "1.2.0",
            "grid_template_areas": null,
            "object_position": null,
            "object_fit": null,
            "grid_auto_columns": null,
            "margin": null,
            "display": null,
            "left": null
          }
        },
        "f638d02d08254a1fa287f5e5ea3ac715": {
          "model_module": "@jupyter-widgets/controls",
          "model_name": "ProgressStyleModel",
          "model_module_version": "1.5.0",
          "state": {
            "_view_name": "StyleView",
            "_model_name": "ProgressStyleModel",
            "description_width": "",
            "_view_module": "@jupyter-widgets/base",
            "_model_module_version": "1.5.0",
            "_view_count": null,
            "_view_module_version": "1.2.0",
            "bar_color": null,
            "_model_module": "@jupyter-widgets/controls"
          }
        },
        "1b032928d7994f96a63a30fe8849f338": {
          "model_module": "@jupyter-widgets/base",
          "model_name": "LayoutModel",
          "model_module_version": "1.2.0",
          "state": {
            "_view_name": "LayoutView",
            "grid_template_rows": null,
            "right": null,
            "justify_content": null,
            "_view_module": "@jupyter-widgets/base",
            "overflow": null,
            "_model_module_version": "1.2.0",
            "_view_count": null,
            "flex_flow": null,
            "width": null,
            "min_width": null,
            "border": null,
            "align_items": null,
            "bottom": null,
            "_model_module": "@jupyter-widgets/base",
            "top": null,
            "grid_column": null,
            "overflow_y": null,
            "overflow_x": null,
            "grid_auto_flow": null,
            "grid_area": null,
            "grid_template_columns": null,
            "flex": null,
            "_model_name": "LayoutModel",
            "justify_items": null,
            "grid_row": null,
            "max_height": null,
            "align_content": null,
            "visibility": null,
            "align_self": null,
            "height": null,
            "min_height": null,
            "padding": null,
            "grid_auto_rows": null,
            "grid_gap": null,
            "max_width": null,
            "order": null,
            "_view_module_version": "1.2.0",
            "grid_template_areas": null,
            "object_position": null,
            "object_fit": null,
            "grid_auto_columns": null,
            "margin": null,
            "display": null,
            "left": null
          }
        },
        "c21268e939a14288a599ad169c8521fc": {
          "model_module": "@jupyter-widgets/controls",
          "model_name": "DescriptionStyleModel",
          "model_module_version": "1.5.0",
          "state": {
            "_view_name": "StyleView",
            "_model_name": "DescriptionStyleModel",
            "description_width": "",
            "_view_module": "@jupyter-widgets/base",
            "_model_module_version": "1.5.0",
            "_view_count": null,
            "_view_module_version": "1.2.0",
            "_model_module": "@jupyter-widgets/controls"
          }
        },
        "9b10f878629a47b985def3a3d646f28c": {
          "model_module": "@jupyter-widgets/base",
          "model_name": "LayoutModel",
          "model_module_version": "1.2.0",
          "state": {
            "_view_name": "LayoutView",
            "grid_template_rows": null,
            "right": null,
            "justify_content": null,
            "_view_module": "@jupyter-widgets/base",
            "overflow": null,
            "_model_module_version": "1.2.0",
            "_view_count": null,
            "flex_flow": null,
            "width": null,
            "min_width": null,
            "border": null,
            "align_items": null,
            "bottom": null,
            "_model_module": "@jupyter-widgets/base",
            "top": null,
            "grid_column": null,
            "overflow_y": null,
            "overflow_x": null,
            "grid_auto_flow": null,
            "grid_area": null,
            "grid_template_columns": null,
            "flex": null,
            "_model_name": "LayoutModel",
            "justify_items": null,
            "grid_row": null,
            "max_height": null,
            "align_content": null,
            "visibility": null,
            "align_self": null,
            "height": null,
            "min_height": null,
            "padding": null,
            "grid_auto_rows": null,
            "grid_gap": null,
            "max_width": null,
            "order": null,
            "_view_module_version": "1.2.0",
            "grid_template_areas": null,
            "object_position": null,
            "object_fit": null,
            "grid_auto_columns": null,
            "margin": null,
            "display": null,
            "left": null
          }
        }
      }
    }
  },
  "nbformat": 4,
  "nbformat_minor": 0
}